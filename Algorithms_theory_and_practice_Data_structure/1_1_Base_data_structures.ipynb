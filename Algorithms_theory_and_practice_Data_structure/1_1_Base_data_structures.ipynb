{
 "cells": [
  {
   "cell_type": "markdown",
   "metadata": {},
   "source": [
    "# 1.1 Базовые структуры данных"
   ]
  },
  {
   "cell_type": "markdown",
   "metadata": {},
   "source": [
    "# Задачи"
   ]
  },
  {
   "cell_type": "markdown",
   "metadata": {},
   "source": [
    "### Step 1 Расстановка скобок в коде"
   ]
  },
  {
   "cell_type": "code",
   "execution_count": 26,
   "metadata": {},
   "outputs": [
    {
     "name": "stdout",
     "output_type": "stream",
     "text": [
      "((()))\n",
      "Success\n"
     ]
    }
   ],
   "source": [
    "def isBalanced(string):\n",
    "    temp = []\n",
    "    save = []\n",
    "    \n",
    "    brakets = {\n",
    "        ')':'(',\n",
    "        ']':'[',\n",
    "        '}':'{',\n",
    "    }\n",
    "    \n",
    "    for i in range(len(string)):\n",
    "        if string[i] not in (list(brakets.values()) + list(brakets.keys())):\n",
    "            continue\n",
    "        if string[i] in brakets.values():\n",
    "            temp.append(string[i])\n",
    "            save.append(i + 1)\n",
    "        else:\n",
    "            if temp == []: return i + 1\n",
    "            elif temp[-1] == brakets.get(string[i]):\n",
    "                del temp[-1]\n",
    "                del save[-1]\n",
    "            else:\n",
    "                return i + 1\n",
    "    if temp == []: return \"Success\"\n",
    "    else: return save[-1]\n",
    "\n",
    "s = input()\n",
    "\n",
    "print(isBalanced(s))"
   ]
  },
  {
   "cell_type": "markdown",
   "metadata": {},
   "source": [
    "# Реализация очереди"
   ]
  },
  {
   "cell_type": "code",
   "execution_count": 158,
   "metadata": {},
   "outputs": [],
   "source": [
    "class queue:\n",
    "    left = []\n",
    "    right = []\n",
    "    \n",
    "    def push(self, a):\n",
    "        self.left.append(a)\n",
    "    \n",
    "    def pop(self):\n",
    "        if not self.right:\n",
    "            if self.left:\n",
    "                self.right = self.right + self.left\n",
    "                self.left = []\n",
    "                print(self.right[-1])\n",
    "                del self.right[-1]\n",
    "            else:\n",
    "                return(\"Очередь пуста\")\n",
    "        else:\n",
    "            print(self.right[-1])\n",
    "            del self.right[-1]\n",
    "        "
   ]
  },
  {
   "cell_type": "code",
   "execution_count": 159,
   "metadata": {},
   "outputs": [],
   "source": [
    "A = queue()"
   ]
  },
  {
   "cell_type": "code",
   "execution_count": 166,
   "metadata": {},
   "outputs": [],
   "source": [
    "A.push(3)"
   ]
  },
  {
   "cell_type": "code",
   "execution_count": 175,
   "metadata": {},
   "outputs": [
    {
     "data": {
      "text/plain": [
       "[]"
      ]
     },
     "execution_count": 175,
     "metadata": {},
     "output_type": "execute_result"
    }
   ],
   "source": [
    "A.left"
   ]
  },
  {
   "cell_type": "code",
   "execution_count": 174,
   "metadata": {},
   "outputs": [
    {
     "data": {
      "text/plain": [
       "[3, 3]"
      ]
     },
     "execution_count": 174,
     "metadata": {},
     "output_type": "execute_result"
    }
   ],
   "source": [
    "A.right"
   ]
  },
  {
   "cell_type": "code",
   "execution_count": 173,
   "metadata": {},
   "outputs": [
    {
     "name": "stdout",
     "output_type": "stream",
     "text": [
      "3\n"
     ]
    }
   ],
   "source": [
    "A.pop()"
   ]
  },
  {
   "cell_type": "markdown",
   "metadata": {},
   "source": [
    "# Задача с минимумом"
   ]
  },
  {
   "cell_type": "markdown",
   "metadata": {},
   "source": [
    "#### Нужно за O(n + m), где n - длина списка, m - длина окна"
   ]
  },
  {
   "cell_type": "code",
   "execution_count": 567,
   "metadata": {},
   "outputs": [],
   "source": [
    "a = [10,5,2,5,0,6,8,6,1,0]\n",
    "b = []\n",
    "c = []\n",
    "d = []\n",
    "stek = []\n",
    "\n",
    "\n",
    "for i in range(3,len(a)):\n",
    "    b.append(min([a[i], a[i - 1], a[i - 2]]))\n",
    "    \n",
    "minim = a[0]\n",
    "\n",
    "for i in range(len(a)):\n",
    "    if a[i] < minim:\n",
    "        minim = a[i]\n",
    "    c.append(minim)"
   ]
  },
  {
   "cell_type": "code",
   "execution_count": 568,
   "metadata": {},
   "outputs": [
    {
     "data": {
      "text/plain": [
       "[2, 0, 0, 0, 6, 1, 0]"
      ]
     },
     "execution_count": 568,
     "metadata": {},
     "output_type": "execute_result"
    }
   ],
   "source": [
    "b"
   ]
  },
  {
   "cell_type": "code",
   "execution_count": 559,
   "metadata": {},
   "outputs": [
    {
     "ename": "ValueError",
     "evalue": "min() arg is an empty sequence",
     "output_type": "error",
     "traceback": [
      "\u001b[1;31m---------------------------------------------------------------------------\u001b[0m",
      "\u001b[1;31mValueError\u001b[0m                                Traceback (most recent call last)",
      "\u001b[1;32m<ipython-input-559-6ff72c7c96cf>\u001b[0m in \u001b[0;36m<module>\u001b[1;34m\u001b[0m\n\u001b[0;32m      1\u001b[0m \u001b[0mstek\u001b[0m\u001b[1;33m.\u001b[0m\u001b[0mappend\u001b[0m\u001b[1;33m(\u001b[0m\u001b[0ma\u001b[0m\u001b[1;33m[\u001b[0m\u001b[1;36m0\u001b[0m\u001b[1;33m:\u001b[0m\u001b[1;36m3\u001b[0m\u001b[1;33m]\u001b[0m\u001b[1;33m)\u001b[0m\u001b[1;33m\u001b[0m\u001b[1;33m\u001b[0m\u001b[0m\n\u001b[1;32m----> 2\u001b[1;33m \u001b[0mminim\u001b[0m \u001b[1;33m=\u001b[0m \u001b[0mmin\u001b[0m\u001b[1;33m(\u001b[0m\u001b[0md\u001b[0m\u001b[1;33m)\u001b[0m\u001b[1;33m\u001b[0m\u001b[1;33m\u001b[0m\u001b[0m\n\u001b[0m\u001b[0;32m      3\u001b[0m \u001b[0md\u001b[0m\u001b[1;33m.\u001b[0m\u001b[0mappend\u001b[0m\u001b[1;33m(\u001b[0m\u001b[0mminim\u001b[0m\u001b[1;33m)\u001b[0m\u001b[1;33m\u001b[0m\u001b[1;33m\u001b[0m\u001b[0m\n\u001b[0;32m      4\u001b[0m \u001b[1;33m\u001b[0m\u001b[0m\n\u001b[0;32m      5\u001b[0m \u001b[1;32mfor\u001b[0m \u001b[0mi\u001b[0m \u001b[1;32min\u001b[0m \u001b[0mrange\u001b[0m\u001b[1;33m(\u001b[0m\u001b[1;36m3\u001b[0m\u001b[1;33m,\u001b[0m \u001b[0mlen\u001b[0m\u001b[1;33m(\u001b[0m\u001b[0ma\u001b[0m\u001b[1;33m)\u001b[0m\u001b[1;33m)\u001b[0m\u001b[1;33m:\u001b[0m\u001b[1;33m\u001b[0m\u001b[1;33m\u001b[0m\u001b[0m\n",
      "\u001b[1;31mValueError\u001b[0m: min() arg is an empty sequence"
     ]
    }
   ],
   "source": [
    "stek.append(a[0:3])\n",
    "minim = min(d)\n",
    "d.append(minim)\n",
    "\n",
    "for i in range(3, len(a)):\n",
    "    if a[i] < minim:\n",
    "        minim = a[i]\n",
    "    stek = stek[1:3] + a[i]\n",
    "    "
   ]
  },
  {
   "cell_type": "code",
   "execution_count": 560,
   "metadata": {},
   "outputs": [
    {
     "data": {
      "text/plain": [
       "[10, 5, 2, 5, 2, 6, 8, 6, 1, 3, 6, 6, 8, 8, 5]"
      ]
     },
     "execution_count": 560,
     "metadata": {},
     "output_type": "execute_result"
    }
   ],
   "source": [
    "a"
   ]
  },
  {
   "cell_type": "markdown",
   "metadata": {},
   "source": [
    "### Step 2 Высота дерева"
   ]
  },
  {
   "cell_type": "code",
   "execution_count": 557,
   "metadata": {},
   "outputs": [
    {
     "name": "stdout",
     "output_type": "stream",
     "text": [
      "4\n"
     ]
    },
    {
     "data": {
      "text/plain": [
       "[[1, 3], [], [], [4], [2]]"
      ]
     },
     "execution_count": 557,
     "metadata": {},
     "output_type": "execute_result"
    }
   ],
   "source": [
    "n = 5\n",
    "# tree = [4, -1, 4, 1, 1]\n",
    "tree = [-1, 0, 4, 0, 3]\n",
    "# tree = [-1, 0, 1, 2, 3, 4, 5, 6, 7, 8]\n",
    "# tree = [9, 7, 5, 5, 2, 9, 9, 9, 2, -1]\n",
    "\n",
    "# n = int(input())\n",
    "# tree = [int(i) for i in input().split()]\n",
    "\n",
    "temp = []\n",
    "for i in range(n): temp.append([])\n",
    "\n",
    "for i in range(n):\n",
    "    if tree[i] != -1:\n",
    "        temp[tree[i]].append(i)\n",
    "\n",
    "def Height(r):\n",
    "    height = 1\n",
    "    for i in temp[r]:\n",
    "        if temp[i]: height = max(height, 1 + Height(i))\n",
    "    return height\n",
    "\n",
    "print(Height(tree.index(-1)) + 1)\n",
    "temp"
   ]
  },
  {
   "cell_type": "markdown",
   "metadata": {},
   "source": [
    "### Step 3 Симуляция обработки сетевых пакетов"
   ]
  },
  {
   "cell_type": "code",
   "execution_count": 677,
   "metadata": {},
   "outputs": [
    {
     "name": "stdout",
     "output_type": "stream",
     "text": [
      "0\n",
      "0\n",
      "0\n",
      "1\n",
      "2\n",
      "1\n",
      "1\n",
      "3\n"
     ]
    }
   ],
   "source": [
    "# size, n = [int(i) for i in input().split()]\n",
    "\n",
    "# temp = []\n",
    "\n",
    "# for i in range(n): temp.append([int(i) for i in input().split()])\n",
    "\n",
    "size, n = 2, 8\n",
    "temp = [[0, 0], [0, 0], [0, 0], [1, 1], [1, 0], [1, 0], [1, 2], [1, 3]]\n",
    "    \n",
    "stek = []\n",
    "\n",
    "a,d = temp.pop(0)\n",
    "stek.append(a + d)\n",
    "print(a)\n",
    "\n",
    "for i in range(n - 1):\n",
    "    a, d = temp.pop(0)\n",
    "    if (stek[-1]) > \n",
    "    \n",
    "    \n",
    "    \n",
    "    "
   ]
  },
  {
   "cell_type": "code",
   "execution_count": 646,
   "metadata": {},
   "outputs": [
    {
     "data": {
      "text/plain": [
       "[]"
      ]
     },
     "execution_count": 646,
     "metadata": {},
     "output_type": "execute_result"
    }
   ],
   "source": [
    "temp"
   ]
  },
  {
   "cell_type": "code",
   "execution_count": 614,
   "metadata": {},
   "outputs": [
    {
     "data": {
      "text/plain": [
       "[[3, 1], [4, 1], [5, 1]]"
      ]
     },
     "execution_count": 614,
     "metadata": {},
     "output_type": "execute_result"
    }
   ],
   "source": [
    "stek"
   ]
  },
  {
   "cell_type": "code",
   "execution_count": null,
   "metadata": {},
   "outputs": [],
   "source": []
  }
 ],
 "metadata": {
  "kernelspec": {
   "display_name": "Python 3",
   "language": "python",
   "name": "python3"
  },
  "language_info": {
   "codemirror_mode": {
    "name": "ipython",
    "version": 3
   },
   "file_extension": ".py",
   "mimetype": "text/x-python",
   "name": "python",
   "nbconvert_exporter": "python",
   "pygments_lexer": "ipython3",
   "version": "3.7.3"
  }
 },
 "nbformat": 4,
 "nbformat_minor": 2
}
