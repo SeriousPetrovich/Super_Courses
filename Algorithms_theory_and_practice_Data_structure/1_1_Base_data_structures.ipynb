{
 "cells": [
  {
   "cell_type": "markdown",
   "metadata": {},
   "source": [
    "# Step 1"
   ]
  },
  {
   "cell_type": "code",
   "execution_count": 26,
   "metadata": {},
   "outputs": [
    {
     "name": "stdout",
     "output_type": "stream",
     "text": [
      "((()))\n",
      "Success\n"
     ]
    }
   ],
   "source": [
    "def isBalanced(string):\n",
    "    temp = []\n",
    "    save = []\n",
    "    \n",
    "    brakets = {\n",
    "        ')':'(',\n",
    "        ']':'[',\n",
    "        '}':'{',\n",
    "    }\n",
    "    \n",
    "    for i in range(len(string)):\n",
    "        if string[i] not in (list(brakets.values()) + list(brakets.keys())):\n",
    "            continue\n",
    "        if string[i] in brakets.values():\n",
    "            temp.append(string[i])\n",
    "            save.append(i + 1)\n",
    "        else:\n",
    "            if temp == []: return i + 1\n",
    "            elif temp[-1] == brakets.get(string[i]):\n",
    "                del temp[-1]\n",
    "                del save[-1]\n",
    "            else:\n",
    "                return i + 1\n",
    "    if temp == []: return \"Success\"\n",
    "    else: return save[-1]\n",
    "\n",
    "s = input()\n",
    "\n",
    "print(isBalanced(s))"
   ]
  },
  {
   "cell_type": "markdown",
   "metadata": {},
   "source": [
    "# Реализация очереди"
   ]
  },
  {
   "cell_type": "code",
   "execution_count": 158,
   "metadata": {},
   "outputs": [],
   "source": [
    "class queue:\n",
    "    left = []\n",
    "    right = []\n",
    "    \n",
    "    def push(self, a):\n",
    "        self.left.append(a)\n",
    "    \n",
    "    def pop(self):\n",
    "        if not self.right:\n",
    "            if self.left:\n",
    "                self.right = self.right + self.left\n",
    "                self.left = []\n",
    "                print(self.right[-1])\n",
    "                del self.right[-1]\n",
    "            else:\n",
    "                return(\"Очередь пуста\")\n",
    "        else:\n",
    "            print(self.right[-1])\n",
    "            del self.right[-1]\n",
    "        "
   ]
  },
  {
   "cell_type": "code",
   "execution_count": 159,
   "metadata": {},
   "outputs": [],
   "source": [
    "A = queue()"
   ]
  },
  {
   "cell_type": "code",
   "execution_count": 166,
   "metadata": {},
   "outputs": [],
   "source": [
    "A.push(3)"
   ]
  },
  {
   "cell_type": "code",
   "execution_count": 175,
   "metadata": {},
   "outputs": [
    {
     "data": {
      "text/plain": [
       "[]"
      ]
     },
     "execution_count": 175,
     "metadata": {},
     "output_type": "execute_result"
    }
   ],
   "source": [
    "A.left"
   ]
  },
  {
   "cell_type": "code",
   "execution_count": 174,
   "metadata": {},
   "outputs": [
    {
     "data": {
      "text/plain": [
       "[3, 3]"
      ]
     },
     "execution_count": 174,
     "metadata": {},
     "output_type": "execute_result"
    }
   ],
   "source": [
    "A.right"
   ]
  },
  {
   "cell_type": "code",
   "execution_count": 173,
   "metadata": {},
   "outputs": [
    {
     "name": "stdout",
     "output_type": "stream",
     "text": [
      "3\n"
     ]
    }
   ],
   "source": [
    "A.pop()"
   ]
  },
  {
   "cell_type": "code",
   "execution_count": null,
   "metadata": {},
   "outputs": [],
   "source": []
  }
 ],
 "metadata": {
  "kernelspec": {
   "display_name": "Python 3",
   "language": "python",
   "name": "python3"
  },
  "language_info": {
   "codemirror_mode": {
    "name": "ipython",
    "version": 3
   },
   "file_extension": ".py",
   "mimetype": "text/x-python",
   "name": "python",
   "nbconvert_exporter": "python",
   "pygments_lexer": "ipython3",
   "version": "3.7.3"
  }
 },
 "nbformat": 4,
 "nbformat_minor": 2
}
