{
 "cells": [
  {
   "cell_type": "markdown",
   "metadata": {},
   "source": [
    "# Фибоначчи.!"
   ]
  },
  {
   "cell_type": "code",
   "execution_count": 22,
   "metadata": {},
   "outputs": [
    {
     "name": "stdout",
     "output_type": "stream",
     "text": [
      "10\n",
      "55\n"
     ]
    }
   ],
   "source": [
    "def fib(n):\n",
    "    a, b = 0, 1\n",
    "    for i in range(2,n+1):\n",
    "        a, b = b, b+a\n",
    "        \n",
    "    return(b)\n",
    "\n",
    "def main():\n",
    "    n = int(input())\n",
    "    print(fib(n))\n",
    "\n",
    "\n",
    "if __name__ == \"__main__\":\n",
    "    main()"
   ]
  },
  {
   "cell_type": "code",
   "execution_count": 26,
   "metadata": {},
   "outputs": [
    {
     "name": "stdout",
     "output_type": "stream",
     "text": [
      "10\n",
      "5\n"
     ]
    }
   ],
   "source": [
    "def fib(n):\n",
    "    a, b = 0, 1\n",
    "    for i in range(2,n+1):\n",
    "        a, b = b, (a+b)%10\n",
    "        \n",
    "    return(b)\n",
    "\n",
    "def main():\n",
    "    n = int(input())\n",
    "    print(fib(n))\n",
    "\n",
    "\n",
    "if __name__ == \"__main__\":\n",
    "    main()"
   ]
  },
  {
   "cell_type": "code",
   "execution_count": 5,
   "metadata": {},
   "outputs": [
    {
     "name": "stdout",
     "output_type": "stream",
     "text": [
      "1 4\n",
      "1\n"
     ]
    }
   ],
   "source": [
    "def fib_mod(n, m):\n",
    "\n",
    "    a, b = 0, 1\n",
    "    c = [a%m, b%m]\n",
    "    \n",
    "    for i in range(2,n+1):\n",
    "        a, b = b, (a+b)\n",
    "        c.append(b%m)\n",
    "        if c[-2:] == c[:2]:\n",
    "            return(c[n%(len(c)-2)])\n",
    "    return(c[n])\n",
    "\n",
    "def main():\n",
    "    n, m = map(int, input().split())\n",
    "    print(fib_mod(n, m))\n",
    "\n",
    "\n",
    "if __name__ == \"__main__\":\n",
    "    main()"
   ]
  },
  {
   "cell_type": "code",
   "execution_count": 49,
   "metadata": {},
   "outputs": [
    {
     "name": "stdout",
     "output_type": "stream",
     "text": [
      "16 4\n",
      "3\n"
     ]
    }
   ],
   "source": [
    "def fib_mod(n, m):\n",
    "\n",
    "    \n",
    "    c = [0, 1]\n",
    "    \n",
    "    for i in range(2,n+1):\n",
    "        c += [c[i-2] + c[i-1]]\n",
    "        if ((c[0]%m) == (c[-2]%m)) & ((c[1]%m) == (c[-1]%m)):\n",
    "            return(c[n%(len(c)-2)]%m)\n",
    "    return(c[n]%m)\n",
    "\n",
    "def main():\n",
    "    n, m = map(int, input().split())\n",
    "    print(fib_mod(n, m))\n",
    "\n",
    "\n",
    "if __name__ == \"__main__\":\n",
    "    main()"
   ]
  },
  {
   "cell_type": "code",
   "execution_count": 33,
   "metadata": {
    "collapsed": true
   },
   "outputs": [
    {
     "name": "stdout",
     "output_type": "stream",
     "text": [
      "20 4\n",
      "0\n",
      "1\n",
      "1\n",
      "2\n",
      "3\n",
      "1\n",
      "0\n",
      "1\n",
      "1\n",
      "2\n",
      "3\n",
      "1\n",
      "0\n",
      "1\n",
      "1\n",
      "2\n",
      "3\n",
      "1\n",
      "0\n",
      "1\n"
     ]
    }
   ],
   "source": [
    "def fib_mod(n, m):\n",
    "\n",
    "    a, b = 0, 1\n",
    "    c = [a%m, b%m]\n",
    "    \n",
    "    for i in range(2,n+1):\n",
    "        a, b = b, (a+b)\n",
    "        c += [b%m]\n",
    "        if c[-2:] == c[:2]:\n",
    "            return(c[n%(len(c)-2)])\n",
    "    return(c[n])\n",
    "\n",
    "def main():\n",
    "    n, m = map(int, input().split())\n",
    "    for i in range(n):\n",
    "        print(fib_mod(i, m))\n",
    "\n",
    "\n",
    "if __name__ == \"__main__\":\n",
    "    main()"
   ]
  },
  {
   "cell_type": "markdown",
   "metadata": {},
   "source": [
    "# НОД.!"
   ]
  },
  {
   "cell_type": "code",
   "execution_count": 54,
   "metadata": {},
   "outputs": [
    {
     "data": {
      "text/plain": [
       "61232"
      ]
     },
     "execution_count": 54,
     "metadata": {},
     "output_type": "execute_result"
    }
   ],
   "source": [
    "def nod(a,b):\n",
    "    if a == 0:\n",
    "        return b\n",
    "    elif b == 0:\n",
    "        return a\n",
    "    elif a >= b:\n",
    "        return nod(a%b,b)\n",
    "    elif b >= a:\n",
    "        return nod(a,b%a)\n",
    "    \n",
    "nod(3918848,1653264)"
   ]
  },
  {
   "cell_type": "code",
   "execution_count": 56,
   "metadata": {},
   "outputs": [
    {
     "name": "stdout",
     "output_type": "stream",
     "text": [
      "10 2\n",
      "2\n"
     ]
    }
   ],
   "source": [
    "def gcd(a, b):\n",
    "    while b:\n",
    "        a,b = b, a%b\n",
    "    return(a)\n",
    "\n",
    "def main():\n",
    "    a, b = map(int, input().split())\n",
    "    print(gcd(a, b))\n",
    "\n",
    "\n",
    "if __name__ == \"__main__\":\n",
    "    main()"
   ]
  },
  {
   "cell_type": "code",
   "execution_count": 34,
   "metadata": {},
   "outputs": [
    {
     "ename": "TypeError",
     "evalue": "must be real number, not list",
     "output_type": "error",
     "traceback": [
      "\u001b[1;31m---------------------------------------------------------------------------\u001b[0m",
      "\u001b[1;31mTypeError\u001b[0m                                 Traceback (most recent call last)",
      "\u001b[1;32m<ipython-input-34-4abb47434b25>\u001b[0m in \u001b[0;36m<module>\u001b[1;34m\u001b[0m\n\u001b[0;32m      5\u001b[0m \u001b[0ma\u001b[0m \u001b[1;33m=\u001b[0m \u001b[1;33m[\u001b[0m\u001b[0mi\u001b[0m \u001b[1;32mfor\u001b[0m \u001b[0mi\u001b[0m \u001b[1;32min\u001b[0m \u001b[0mnp\u001b[0m\u001b[1;33m.\u001b[0m\u001b[0marange\u001b[0m\u001b[1;33m(\u001b[0m\u001b[1;36m100\u001b[0m\u001b[1;33m)\u001b[0m\u001b[1;33m]\u001b[0m\u001b[1;33m\u001b[0m\u001b[1;33m\u001b[0m\u001b[0m\n\u001b[0;32m      6\u001b[0m \u001b[0mfig\u001b[0m \u001b[1;33m=\u001b[0m \u001b[0mplt\u001b[0m\u001b[1;33m.\u001b[0m\u001b[0mfigure\u001b[0m\u001b[1;33m(\u001b[0m\u001b[1;33m)\u001b[0m\u001b[1;33m\u001b[0m\u001b[1;33m\u001b[0m\u001b[0m\n\u001b[1;32m----> 7\u001b[1;33m \u001b[0mff\u001b[0m \u001b[1;33m=\u001b[0m \u001b[0mnp\u001b[0m\u001b[1;33m.\u001b[0m\u001b[0marray\u001b[0m\u001b[1;33m(\u001b[0m\u001b[0mmath\u001b[0m\u001b[1;33m.\u001b[0m\u001b[0msqrt\u001b[0m\u001b[1;33m(\u001b[0m\u001b[0mmath\u001b[0m\u001b[1;33m.\u001b[0m\u001b[0mlog\u001b[0m\u001b[1;33m(\u001b[0m\u001b[0ma\u001b[0m\u001b[1;33m,\u001b[0m \u001b[1;36m4\u001b[0m\u001b[1;33m)\u001b[0m\u001b[1;33m)\u001b[0m\u001b[1;33m)\u001b[0m\u001b[1;33m\u001b[0m\u001b[1;33m\u001b[0m\u001b[0m\n\u001b[0m\u001b[0;32m      8\u001b[0m \u001b[0mprint\u001b[0m\u001b[1;33m(\u001b[0m\u001b[0mmath\u001b[0m\u001b[1;33m.\u001b[0m\u001b[0mlog\u001b[0m\u001b[1;33m(\u001b[0m\u001b[0mmath\u001b[0m\u001b[1;33m.\u001b[0m\u001b[0mlog\u001b[0m\u001b[1;33m(\u001b[0m\u001b[0mn\u001b[0m\u001b[1;33m,\u001b[0m \u001b[1;36m2\u001b[0m\u001b[1;33m)\u001b[0m\u001b[1;33m)\u001b[0m\u001b[1;33m)\u001b[0m\u001b[1;33m\u001b[0m\u001b[1;33m\u001b[0m\u001b[0m\n\u001b[0;32m      9\u001b[0m \u001b[0mprint\u001b[0m\u001b[1;33m(\u001b[0m\u001b[0mmath\u001b[0m\u001b[1;33m.\u001b[0m\u001b[0mlog\u001b[0m\u001b[1;33m(\u001b[0m\u001b[0mn\u001b[0m\u001b[1;33m,\u001b[0m \u001b[1;36m3\u001b[0m\u001b[1;33m)\u001b[0m\u001b[1;33m)\u001b[0m\u001b[1;33m\u001b[0m\u001b[1;33m\u001b[0m\u001b[0m\n",
      "\u001b[1;31mTypeError\u001b[0m: must be real number, not list"
     ]
    },
    {
     "data": {
      "text/plain": [
       "<Figure size 432x288 with 0 Axes>"
      ]
     },
     "metadata": {},
     "output_type": "display_data"
    }
   ],
   "source": [
    "import math\n",
    "n=100\n",
    "print(math.sqrt(math.log(n, 4)))\n",
    "print(math.log(math.log(n, 2)))\n",
    "print(math.log(n, 3))\n",
    "print(math.sqrt(n))\n",
    "print(n / math.log(n, 5))\n",
    "print(math.log(n, 2) ** 2)\n",
    "print(math.log(math.factorial(n),2))\n",
    "print(3 ** math.log(n, 2))\n",
    "print(n ** 2)\n",
    "print(math.log(n, 2) ** (math.log(n, 2)))\n",
    "print(7 ** (math.log(n, 2)))\n",
    "print(n ** (math.log(n, 2)))\n",
    "print(n ** (math.sqrt(n)))\n",
    "print(2 ** n)\n",
    "print(4 ** n)\n",
    "print(2 ** (3 * n))\n",
    "print(math.factorial(n))\n",
    "# print(2 ** (2 ** n))\n",
    "n ** (math.sqrt(n)) > 2 ** n"
   ]
  },
  {
   "cell_type": "markdown",
   "metadata": {},
   "source": [
    "# Практика на Python.!"
   ]
  },
  {
   "cell_type": "markdown",
   "metadata": {},
   "source": [
    "#### Интро по декораторам.!"
   ]
  },
  {
   "cell_type": "code",
   "execution_count": 99,
   "metadata": {},
   "outputs": [
    {
     "name": "stdout",
     "output_type": "stream",
     "text": [
      "Я - код, который отработает до вызова функции\n",
      "Оставь меня в покое\n",
      "А я - код, срабатывающий после\n"
     ]
    }
   ],
   "source": [
    "def another_stand_alone_function():\n",
    "    print(\"Оставь меня в покое\")\n",
    "\n",
    "def my_shiny_new_decorator(function_to_decorate):\n",
    "        def the_wrapper_around_the_original_function():\n",
    "    \n",
    "            print(\"Я - код, который отработает до вызова функции\")\n",
    "            function_to_decorate()\n",
    "            print(\"А я - код, срабатывающий после\")\n",
    "\n",
    "        return the_wrapper_around_the_original_function\n",
    "\n",
    "@my_shiny_new_decorator\n",
    "def another_stand_alone_function():\n",
    "    print(\"Оставь меня в покое\")\n",
    "    \n",
    "another_stand_alone_function() \n",
    "\n",
    "# ну или:\n",
    "\n",
    "another_stand_alone_function = my_shiny_new_decorator(another_stand_alone_function)"
   ]
  },
  {
   "cell_type": "markdown",
   "metadata": {},
   "source": [
    "#### Возня Фибоначчи с декораторами.!"
   ]
  },
  {
   "cell_type": "code",
   "execution_count": 111,
   "metadata": {},
   "outputs": [
    {
     "data": {
      "text/plain": [
       "21"
      ]
     },
     "execution_count": 111,
     "metadata": {},
     "output_type": "execute_result"
    }
   ],
   "source": [
    "def fib1(n):\n",
    "    assert n>= 0\n",
    "    return n if n <= 1 else fib1(n - 2) + fib1(n - 1)\n",
    "old_fib1 = fib1 # Сохранили оригинальный fib1 для возвращения из декорирования\n",
    "fib1(8)"
   ]
  },
  {
   "cell_type": "code",
   "execution_count": 51,
   "metadata": {},
   "outputs": [
    {
     "data": {
      "text/plain": [
       "23416728348467685"
      ]
     },
     "execution_count": 51,
     "metadata": {},
     "output_type": "execute_result"
    }
   ],
   "source": [
    "cache = {}\n",
    "\n",
    "def fib2(n): \n",
    "    assert n>= 0\n",
    "    if n not in cache:\n",
    "        cache[n] = n if n <= 1 else fib2(n-2) + fib2(n-1)\n",
    "    return cache[n]\n",
    "\n",
    "fib2(80)"
   ]
  },
  {
   "cell_type": "code",
   "execution_count": 52,
   "metadata": {},
   "outputs": [],
   "source": [
    "def memo(f):\n",
    "    cache = {}\n",
    "    def inner(n):\n",
    "        if n not in cache:\n",
    "            cache[n] = f(n)\n",
    "        return cache[n]\n",
    "    return inner"
   ]
  },
  {
   "cell_type": "code",
   "execution_count": 85,
   "metadata": {},
   "outputs": [
    {
     "data": {
      "text/plain": [
       "23416728348467685"
      ]
     },
     "execution_count": 85,
     "metadata": {},
     "output_type": "execute_result"
    }
   ],
   "source": [
    "@memo\n",
    "def fib1(n):\n",
    "    assert n>= 0\n",
    "    return n if n <= 1 else fib1(n - 2) + fib1(n - 1)\n",
    "\n",
    "fib1(80)\n",
    "\n",
    "\n",
    "fib1 = memo(fib1)\n",
    "fib1(80)"
   ]
  },
  {
   "cell_type": "code",
   "execution_count": 58,
   "metadata": {},
   "outputs": [],
   "source": [
    "def fib3(n):\n",
    "    assert n >= 0\n",
    "    f0, f1 = 0, 1\n",
    "    for i in range(n - 1):\n",
    "        f0, f1 = f1, f0 + f1\n",
    "    return f1"
   ]
  },
  {
   "cell_type": "code",
   "execution_count": 121,
   "metadata": {},
   "outputs": [],
   "source": [
    "import time\n",
    "\n",
    "def timed(f, *args, n_iter=100):\n",
    "    acc = float('inf')\n",
    "    for i in range(n_iter):\n",
    "        t0 = time.perf_counter()\n",
    "        f(*args)\n",
    "        t1 = time.perf_counter()\n",
    "        acc = min(acc, t1 - t0)\n",
    "    return acc"
   ]
  },
  {
   "cell_type": "code",
   "execution_count": 103,
   "metadata": {},
   "outputs": [
    {
     "data": {
      "text/plain": [
       "3.999999989900971e-05"
      ]
     },
     "execution_count": 103,
     "metadata": {},
     "output_type": "execute_result"
    }
   ],
   "source": [
    "timed(fib3, 800) #время выполнения fib3 для 800го Фибоначчи"
   ]
  },
  {
   "cell_type": "markdown",
   "metadata": {},
   "source": [
    "#### Сравнение скорости работ функций.!"
   ]
  },
  {
   "cell_type": "code",
   "execution_count": 122,
   "metadata": {},
   "outputs": [],
   "source": [
    "from matplotlib import pyplot as plt\n",
    "\n",
    "def compare(fs, args):\n",
    "    for f in fs:\n",
    "        plt.plot(args, [timed(f, arg) for arg in args], label=f.__name__)\n",
    "    plt.legend()\n",
    "    plt.grid(True)"
   ]
  },
  {
   "cell_type": "code",
   "execution_count": 132,
   "metadata": {},
   "outputs": [
    {
     "data": {
      "image/png": "[encoded data removed]",
      "text/plain": [
       "<Figure size 432x288 with 1 Axes>"
      ]
     },
     "metadata": {
      "needs_background": "light"
     },
     "output_type": "display_data"
    }
   ],
   "source": [
    "# fib1 = memo(fib1)\n",
    "fib1 = old_fib1\n",
    "\n",
    "compare([fib3], list(range(20)))"
   ]
  },
  {
   "cell_type": "code",
   "execution_count": 135,
   "metadata": {},
   "outputs": [],
   "source": [
    "import random\n",
    "\n",
    "def test(gcd, n_iter=100):\n",
    "    for i in range(n_iter):\n",
    "        c = random.randint(0, 1024)\n",
    "        a = c * random.randint(0, 128)\n",
    "        b = c * random.randint(0, 128)\n",
    "        assert gcd(a, a) == gcd(a, 0) == a\n",
    "        assert gcd(b, b) == gcd(b, 0) == b\n",
    "        assert gcd(a, 1) == gcd(b, 1) == 1\n",
    "        d = gcd(a, b)\n",
    "        assert a % d == b % d == 0"
   ]
  },
  {
   "cell_type": "code",
   "execution_count": null,
   "metadata": {},
   "outputs": [],
   "source": []
  }
 ],
 "metadata": {
  "kernelspec": {
   "display_name": "Python 3",
   "language": "python",
   "name": "python3"
  },
  "language_info": {
   "codemirror_mode": {
    "name": "ipython",
    "version": 3
   },
   "file_extension": ".py",
   "mimetype": "text/x-python",
   "name": "python",
   "nbconvert_exporter": "python",
   "pygments_lexer": "ipython3",
   "version": "3.7.3"
  }
 },
 "nbformat": 4,
 "nbformat_minor": 2
}
