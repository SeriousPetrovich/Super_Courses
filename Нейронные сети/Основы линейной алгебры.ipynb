{
 "cells": [
  {
   "cell_type": "markdown",
   "metadata": {},
   "source": [
    "## 1.6 NumPy: основы"
   ]
  },
  {
   "cell_type": "markdown",
   "metadata": {},
   "source": [
    "##### Как создать массив:\n",
    "\n",
    "+ `array(object)` — n-мерный массив из любой (возможно, вложенной) последовательности\n",
    "+ `eye(N, M=N, k=0)` -- двумерный массив с N строками с единицами на диагонали и нулями во всех остальных позициях. Число столбцов M по умолчанию равно N, k — сдвиг диагонали (0 для основной диагонали, положительные числа для верхних диагоналей и отрицательные для нижних),\n",
    "- `zeros(shape)` -- новый массив указанной формы, заполненный нулями,\n",
    "- `ones(shape)` -- новый массив указанной формы, заполненный единицами,\n",
    "- `full(shape, fill_value)` -- новый массив указанной формы, заполненный `fill_value`.\n",
    "\n",
    "\n",
    "##### Форма массива\n",
    "+ `a.flatten()` — превращает массив в одномерный.\n",
    "+ `a.T` или `a.transpose(*axes)` — транспонирование (или смена порядка осей в случае, когда размерность массива больше двух).\n",
    "+ `a.reshape(shape)` — смена формы массива. Массив \"распрямляется\" и построчно заполняется в новую форму.\n",
    "+ `a.shape` - Форма массива\n",
    "\n",
    "##### Базовые статистики\n",
    "\n",
    "+ `a.min(axis=None)`, `a.max(axis=None)`, `a.mean(axis=None)`, `a.std(axis=None)` — минимум, максимум, среднее арифметическое и стандартное отклонение вдоль указанной оси. По умолчанию ось не указана и статистика считается по всему массиву.\n",
    "+ `a.argmin(axis=None)`, `a.argmax(axis=None)` — индексы минимального и максимального элемента.\n",
    "+ `a.sum(axis=None)`, `a.prod(axis=None)` — сумма и произведение всех элементов вдоль указанной оси.\n",
    "+ `a.cumsum(axis=None)`, `a.cumprod(axis=None)` — частичные суммы и произведения (для (a1,⋯,an) вектор частичных сумм — это `(a1,a1+a2,⋯,a1+⋯+an))`.\n",
    "\n",
    "##### Линейная алгебра\n",
    "Пакет `numpy.linalg` содержит большую часть стандартных операций и разложений матриц. Некоторые самые популярные функции вынесены в корень пакета NumPy.\n",
    "+ `a.dot(b)` — матричное произведение двух массивов (размерности должны быть согласованы),\n",
    "+ `linalg.matrix_power(M, n)` — возведение матрицы `M` в степень `n`,\n",
    "+ `a.T` — транспонирование\n",
    "+ `linalg.norm(a, ord=None)` — норма матрицы `a`, по умолчанию норма Фробениуса для матриц и L2-норма для векторов; подробное описание возможных норм — в справке,\n",
    "+ `linalg.inv(a)` — матрица, обратная к `a` (если `a` необратима, выбрасывается `LinAlgError`; псевдообратная считается через `linalg.pinv(a)`)\n"
   ]
  },
  {
   "cell_type": "code",
   "execution_count": 87,
   "metadata": {
    "scrolled": false
   },
   "outputs": [
    {
     "name": "stdout",
     "output_type": "stream",
     "text": [
      "2 3\n",
      "8 7 7 14 4 6\n",
      "4 3\n",
      "5 5 1 5 2 6 3 3 9 1 4 6\n",
      "matrix shapes do not match\n"
     ]
    }
   ],
   "source": [
    "import numpy as np\n",
    "\n",
    "x_shape = tuple(map(int, input().split()))\n",
    "X = np.fromiter(map(int, input().split()), np.int).reshape(x_shape)\n",
    "y_shape = tuple(map(int, input().split()))\n",
    "Y = np.fromiter(map(int, input().split()), np.int).reshape(y_shape)\n",
    "\n",
    "if (X.shape[1] == Y.shape[1]):\n",
    "    print(X.dot(Y.T))\n",
    "else:\n",
    "    print('matrix shapes do not match')"
   ]
  },
  {
   "cell_type": "markdown",
   "metadata": {},
   "source": [
    "##### Как считать данные из файла:\n",
    "\n",
    "> sbux = np.loadtxt(\"sbux.csv\", usecols=(0,1,4), skiprows=1, delimiter=\",\",\n",
    "                      dtype={'names': ('date', 'open', 'close'),\n",
    "                      'formats': ('datetime64[D]', 'f4', 'f4')})\n",
    "\n",
    "Здесь использованы не все параметры функции loadtxt (полный их список можно посмотреть в справке). Разберём имеющиеся, так как они являются наиболее часто встречающимися.\n",
    "+ `\"sbux.csv\"` — имя файла (или сюда же можно передать объект файла, такой пример вы увидите в следующей задаче урока), из которого считываются данные.\n",
    "+ `usecols` — список колонок, которые нужно использовать. Если параметр не указан, считываются все колонки.\n",
    "+ `skiprows` — количество рядов в начале файла, которые нужно пропустить. В нашем случае пропущен ряд заголовков. По умолчанию (если значение параметра не указано явно) `skiprows = 0`.\n",
    "+ `delimiter` — разделитель столбцов в одной строке, в `csv`-файлах это запятая, по умолчанию разделителем является любой пробел (в том числе — знак табуляции).\n",
    "+ `dtype` — словарь из названий колонок (переменных) и типов хранящихся в них значений. NumPy использует свою собственную систему типов, и названия именно этих типов нужно указать. По умолчанию функция попытается самостоятельно угадать, какому типу принадлежат подаваемые на вход значения.\n"
   ]
  },
  {
   "cell_type": "code",
   "execution_count": 12,
   "metadata": {},
   "outputs": [
    {
     "name": "stdout",
     "output_type": "stream",
     "text": [
      "https://stepic.org/media/attachments/lesson/16462/boston_houses.csv\n",
      "[22.53280632  3.61352356 11.36363636  0.06916996  0.55469506  6.28463439\n",
      "  3.79504269]\n"
     ]
    }
   ],
   "source": [
    "from urllib.request import urlopen\n",
    "import numpy as np\n",
    "\n",
    "filename = input()\n",
    "f = urlopen(filename)\n",
    "a = np.loadtxt(f, skiprows=1, delimiter=',')\n",
    "print(a.mean(axis=0))"
   ]
  },
  {
   "cell_type": "code",
   "execution_count": 7,
   "metadata": {},
   "outputs": [
    {
     "name": "stdout",
     "output_type": "stream",
     "text": [
      "(1, 2, 3, 4)\n"
     ]
    }
   ],
   "source": [
    "fuf = lambda *args: print(args)\n",
    "fuf(1,2,3,4)\n"
   ]
  },
  {
   "cell_type": "code",
   "execution_count": 8,
   "metadata": {},
   "outputs": [
    {
     "name": "stdout",
     "output_type": "stream",
     "text": [
      "(1, 2, 3, 4)\n"
     ]
    }
   ],
   "source": [
    "(lambda *args: print(args))(1,2,3,4)"
   ]
  },
  {
   "cell_type": "code",
   "execution_count": 9,
   "metadata": {},
   "outputs": [
    {
     "name": "stdout",
     "output_type": "stream",
     "text": [
      "[1, 2, 3] [1, 2, 3] [2, 3]\n"
     ]
    }
   ],
   "source": [
    "a = [1,2,3]\n",
    "b = [1,2,3]\n",
    "c = [2,3]\n",
    "lis = [a,b,c]\n",
    "print(*lis)"
   ]
  },
  {
   "cell_type": "code",
   "execution_count": 6,
   "metadata": {},
   "outputs": [
    {
     "name": "stdout",
     "output_type": "stream",
     "text": [
      "<map object at 0x0000024D66765DA0>\n"
     ]
    }
   ],
   "source": [
    "nums = [1,2,3]\n",
    "\n",
    "print(map(lambda x: x*x, nums))"
   ]
  },
  {
   "cell_type": "code",
   "execution_count": 3,
   "metadata": {},
   "outputs": [
    {
     "ename": "NameError",
     "evalue": "name 'nums' is not defined",
     "output_type": "error",
     "traceback": [
      "\u001b[1;31m---------------------------------------------------------------------------\u001b[0m",
      "\u001b[1;31mNameError\u001b[0m                                 Traceback (most recent call last)",
      "\u001b[1;32m<ipython-input-3-43bd6203ae53>\u001b[0m in \u001b[0;36m<module>\u001b[1;34m\u001b[0m\n\u001b[0;32m      4\u001b[0m \u001b[0mn\u001b[0m \u001b[1;33m=\u001b[0m \u001b[1;33m[\u001b[0m\u001b[1;36m4\u001b[0m\u001b[1;33m,\u001b[0m\u001b[1;36m5\u001b[0m\u001b[1;33m,\u001b[0m\u001b[1;36m6\u001b[0m\u001b[1;33m]\u001b[0m\u001b[1;33m\u001b[0m\u001b[1;33m\u001b[0m\u001b[0m\n\u001b[0;32m      5\u001b[0m \u001b[1;33m\u001b[0m\u001b[0m\n\u001b[1;32m----> 6\u001b[1;33m \u001b[0mprint\u001b[0m\u001b[1;33m(\u001b[0m\u001b[0mlist\u001b[0m\u001b[1;33m(\u001b[0m\u001b[0mmap\u001b[0m\u001b[1;33m(\u001b[0m\u001b[1;32mlambda\u001b[0m \u001b[0mx\u001b[0m\u001b[1;33m,\u001b[0m\u001b[0my\u001b[0m\u001b[1;33m:\u001b[0m \u001b[0mx\u001b[0m\u001b[1;33m*\u001b[0m\u001b[0my\u001b[0m\u001b[1;33m,\u001b[0m\u001b[0mnums\u001b[0m\u001b[1;33m,\u001b[0m\u001b[0mn\u001b[0m\u001b[1;33m)\u001b[0m\u001b[1;33m)\u001b[0m\u001b[1;33m)\u001b[0m\u001b[1;33m\u001b[0m\u001b[1;33m\u001b[0m\u001b[0m\n\u001b[0m",
      "\u001b[1;31mNameError\u001b[0m: name 'nums' is not defined"
     ]
    }
   ],
   "source": [
    "def a_b(a,b):\n",
    "    return a*b\n",
    "\n",
    "n = [4,5,6]\n",
    "\n",
    "print(list(map(lambda x,y: x*y,nums,n)))"
   ]
  },
  {
   "cell_type": "code",
   "execution_count": 5,
   "metadata": {},
   "outputs": [
    {
     "name": "stdout",
     "output_type": "stream",
     "text": [
      "[(1, 3), (2, 4)]\n"
     ]
    }
   ],
   "source": [
    "x = [1, 2]\n",
    "y = [3, 4]\n",
    "print(list(zip(x,y)))"
   ]
  },
  {
   "cell_type": "code",
   "execution_count": null,
   "metadata": {},
   "outputs": [],
   "source": []
  }
 ],
 "metadata": {
  "kernelspec": {
   "display_name": "Python 3",
   "language": "python",
   "name": "python3"
  },
  "language_info": {
   "codemirror_mode": {
    "name": "ipython",
    "version": 3
   },
   "file_extension": ".py",
   "mimetype": "text/x-python",
   "name": "python",
   "nbconvert_exporter": "python",
   "pygments_lexer": "ipython3",
   "version": "3.7.3"
  }
 },
 "nbformat": 4,
 "nbformat_minor": 2
}
