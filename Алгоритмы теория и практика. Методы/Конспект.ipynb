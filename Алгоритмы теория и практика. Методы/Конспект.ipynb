{
 "cells": [
  {
   "attachments": {},
   "cell_type": "markdown",
   "metadata": {},
   "source": [
    "# Тут будет конспект.!"
   ]
  },
  {
   "cell_type": "code",
   "execution_count": 22,
   "metadata": {},
   "outputs": [
    {
     "name": "stdout",
     "output_type": "stream",
     "text": [
      "10\n",
      "55\n"
     ]
    }
   ],
   "source": [
    "def fib(n):\n",
    "    a, b = 0, 1\n",
    "    for i in range(2,n+1):\n",
    "        a, b = b, b+a\n",
    "        \n",
    "    return(b)\n",
    "\n",
    "def main():\n",
    "    n = int(input())\n",
    "    print(fib(n))\n",
    "\n",
    "\n",
    "if __name__ == \"__main__\":\n",
    "    main()"
   ]
  },
  {
   "cell_type": "code",
   "execution_count": 26,
   "metadata": {},
   "outputs": [
    {
     "name": "stdout",
     "output_type": "stream",
     "text": [
      "10\n",
      "5\n"
     ]
    }
   ],
   "source": [
    "def fib(n):\n",
    "    a, b = 0, 1\n",
    "    for i in range(2,n+1):\n",
    "        a, b = b, (a+b)%10\n",
    "        \n",
    "    return(b)\n",
    "\n",
    "def main():\n",
    "    n = int(input())\n",
    "    print(fib(n))\n",
    "\n",
    "\n",
    "if __name__ == \"__main__\":\n",
    "    main()"
   ]
  },
  {
   "cell_type": "code",
   "execution_count": null,
   "metadata": {},
   "outputs": [],
   "source": [
    "def fib_mod(n, m):\n",
    "\n",
    "    a, b = 0, 1\n",
    "    c = [a%m, b%m]\n",
    "    \n",
    "    for i in range(2,n+1):\n",
    "        a, b = b, (a+b)\n",
    "        c.append(b%m)\n",
    "        if c[-2:] == c[:2]:\n",
    "            return(c[n%(len(c)-2)])\n",
    "    return(c[n])\n",
    "\n",
    "def main():\n",
    "    n, m = map(int, input().split())\n",
    "    print(fib_mod(n, m))\n",
    "\n",
    "\n",
    "if __name__ == \"__main__\":\n",
    "    main()"
   ]
  },
  {
   "cell_type": "code",
   "execution_count": null,
   "metadata": {},
   "outputs": [],
   "source": []
  },
  {
   "cell_type": "code",
   "execution_count": null,
   "metadata": {},
   "outputs": [],
   "source": []
  }
 ],
 "metadata": {
  "kernelspec": {
   "display_name": "Python 3",
   "language": "python",
   "name": "python3"
  },
  "language_info": {
   "codemirror_mode": {
    "name": "ipython",
    "version": 3
   },
   "file_extension": ".py",
   "mimetype": "text/x-python",
   "name": "python",
   "nbconvert_exporter": "python",
   "pygments_lexer": "ipython3",
   "version": "3.7.3"
  }
 },
 "nbformat": 4,
 "nbformat_minor": 2
}
