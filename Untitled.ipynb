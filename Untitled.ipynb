{
 "cells": [
  {
   "cell_type": "markdown",
   "metadata": {},
   "source": [
    "# Установка программы\n",
    "\n",
    "\n"
   ]
  },
  {
   "cell_type": "code",
   "execution_count": 1,
   "metadata": {
    "collapsed": true
   },
   "outputs": [
    {
     "ename": "NameError",
     "evalue": "name 'news_tank0' is not defined",
     "output_type": "error",
     "traceback": [
      "\u001b[1;31m---------------------------------------------------------------------------\u001b[0m",
      "\u001b[1;31mNoSuchWindowException\u001b[0m                     Traceback (most recent call last)",
      "\u001b[1;32m<ipython-input-1-65265646a759>\u001b[0m in \u001b[0;36m<module>\u001b[1;34m\u001b[0m\n\u001b[0;32m     29\u001b[0m \u001b[1;33m\u001b[0m\u001b[0m\n\u001b[1;32m---> 30\u001b[1;33m     \u001b[0mbrowser\u001b[0m\u001b[1;33m.\u001b[0m\u001b[0mget\u001b[0m\u001b[1;33m(\u001b[0m\u001b[0mlink_news\u001b[0m\u001b[1;33m)\u001b[0m\u001b[1;33m\u001b[0m\u001b[1;33m\u001b[0m\u001b[0m\n\u001b[0m\u001b[0;32m     31\u001b[0m \u001b[1;33m\u001b[0m\u001b[0m\n",
      "\u001b[1;32m~\\Anaconda3\\lib\\site-packages\\selenium\\webdriver\\remote\\webdriver.py\u001b[0m in \u001b[0;36mget\u001b[1;34m(self, url)\u001b[0m\n\u001b[0;32m    332\u001b[0m         \"\"\"\n\u001b[1;32m--> 333\u001b[1;33m         \u001b[0mself\u001b[0m\u001b[1;33m.\u001b[0m\u001b[0mexecute\u001b[0m\u001b[1;33m(\u001b[0m\u001b[0mCommand\u001b[0m\u001b[1;33m.\u001b[0m\u001b[0mGET\u001b[0m\u001b[1;33m,\u001b[0m \u001b[1;33m{\u001b[0m\u001b[1;34m'url'\u001b[0m\u001b[1;33m:\u001b[0m \u001b[0murl\u001b[0m\u001b[1;33m}\u001b[0m\u001b[1;33m)\u001b[0m\u001b[1;33m\u001b[0m\u001b[1;33m\u001b[0m\u001b[0m\n\u001b[0m\u001b[0;32m    334\u001b[0m \u001b[1;33m\u001b[0m\u001b[0m\n",
      "\u001b[1;32m~\\Anaconda3\\lib\\site-packages\\selenium\\webdriver\\remote\\webdriver.py\u001b[0m in \u001b[0;36mexecute\u001b[1;34m(self, driver_command, params)\u001b[0m\n\u001b[0;32m    320\u001b[0m         \u001b[1;32mif\u001b[0m \u001b[0mresponse\u001b[0m\u001b[1;33m:\u001b[0m\u001b[1;33m\u001b[0m\u001b[1;33m\u001b[0m\u001b[0m\n\u001b[1;32m--> 321\u001b[1;33m             \u001b[0mself\u001b[0m\u001b[1;33m.\u001b[0m\u001b[0merror_handler\u001b[0m\u001b[1;33m.\u001b[0m\u001b[0mcheck_response\u001b[0m\u001b[1;33m(\u001b[0m\u001b[0mresponse\u001b[0m\u001b[1;33m)\u001b[0m\u001b[1;33m\u001b[0m\u001b[1;33m\u001b[0m\u001b[0m\n\u001b[0m\u001b[0;32m    322\u001b[0m             response['value'] = self._unwrap_value(\n",
      "\u001b[1;32m~\\Anaconda3\\lib\\site-packages\\selenium\\webdriver\\remote\\errorhandler.py\u001b[0m in \u001b[0;36mcheck_response\u001b[1;34m(self, response)\u001b[0m\n\u001b[0;32m    241\u001b[0m             \u001b[1;32mraise\u001b[0m \u001b[0mexception_class\u001b[0m\u001b[1;33m(\u001b[0m\u001b[0mmessage\u001b[0m\u001b[1;33m,\u001b[0m \u001b[0mscreen\u001b[0m\u001b[1;33m,\u001b[0m \u001b[0mstacktrace\u001b[0m\u001b[1;33m,\u001b[0m \u001b[0malert_text\u001b[0m\u001b[1;33m)\u001b[0m\u001b[1;33m\u001b[0m\u001b[1;33m\u001b[0m\u001b[0m\n\u001b[1;32m--> 242\u001b[1;33m         \u001b[1;32mraise\u001b[0m \u001b[0mexception_class\u001b[0m\u001b[1;33m(\u001b[0m\u001b[0mmessage\u001b[0m\u001b[1;33m,\u001b[0m \u001b[0mscreen\u001b[0m\u001b[1;33m,\u001b[0m \u001b[0mstacktrace\u001b[0m\u001b[1;33m)\u001b[0m\u001b[1;33m\u001b[0m\u001b[1;33m\u001b[0m\u001b[0m\n\u001b[0m\u001b[0;32m    243\u001b[0m \u001b[1;33m\u001b[0m\u001b[0m\n",
      "\u001b[1;31mNoSuchWindowException\u001b[0m: Message: no such window: target window already closed\nfrom unknown error: web view not found\n  (Session info: chrome=79.0.3945.130)\n",
      "\nDuring handling of the above exception, another exception occurred:\n",
      "\u001b[1;31mNameError\u001b[0m                                 Traceback (most recent call last)",
      "\u001b[1;32m<ipython-input-1-65265646a759>\u001b[0m in \u001b[0;36m<module>\u001b[1;34m\u001b[0m\n\u001b[0;32m     60\u001b[0m \u001b[1;33m\u001b[0m\u001b[0m\n\u001b[0;32m     61\u001b[0m \u001b[1;32mfinally\u001b[0m\u001b[1;33m:\u001b[0m\u001b[1;33m\u001b[0m\u001b[1;33m\u001b[0m\u001b[0m\n\u001b[1;32m---> 62\u001b[1;33m     \u001b[0mfile_writer\u001b[0m\u001b[1;33m(\u001b[0m\u001b[0mnews_tank0\u001b[0m\u001b[1;33m,\u001b[0m \u001b[0mnews_tank1\u001b[0m\u001b[1;33m)\u001b[0m\u001b[1;33m\u001b[0m\u001b[1;33m\u001b[0m\u001b[0m\n\u001b[0m\u001b[0;32m     63\u001b[0m     \u001b[0mbrowser\u001b[0m\u001b[1;33m.\u001b[0m\u001b[0mquit\u001b[0m\u001b[1;33m(\u001b[0m\u001b[1;33m)\u001b[0m\u001b[1;33m\u001b[0m\u001b[1;33m\u001b[0m\u001b[0m\n",
      "\u001b[1;31mNameError\u001b[0m: name 'news_tank0' is not defined"
     ]
    }
   ],
   "source": [
    "from selenium import webdriver\n",
    "import time\n",
    "import csv\n",
    "import datetime\n",
    "import re\n",
    "\n",
    "def file_writer(news_tank0, news_tank1):\n",
    "    with open('isu_news.csv', 'w', encoding=\"utf-8\") as file:\n",
    "        a_pen = csv.writer(file)\n",
    "        a_pen.writerow(('views_reg_text', 'data'))\n",
    "\n",
    "        for i in range(len(news_tank0)):\n",
    "            a_pen.writerow((news_tank0[i], news_tank1[i]))\n",
    "\n",
    "\n",
    "link = \"https://isu.ifmo.ru\"\n",
    "link_news = 'https://isu.ifmo.ru/pls/apex/f?p=2143:26:114883727231797::NO:RP:NM_ARCHIVE,NM_FAV:,'\n",
    "\n",
    "try:\n",
    "    browser = webdriver.Chrome()\n",
    "    browser.get(link)\n",
    "\n",
    "    login = browser.find_element_by_id('P101_USERNAME')\n",
    "    login.send_keys(\"287327\")\n",
    "    password = browser.find_element_by_id('P101_PASSWORD')\n",
    "    password.send_keys(\"SIMITtashit16\")\n",
    "    login_button = browser.find_element_by_id(\"login-button\")\n",
    "    login_button.click()\n",
    "\n",
    "    browser.get(link_news)\n",
    "\n",
    "    news_tank0 = []\n",
    "    news_tank1 = []\n",
    "\n",
    "    for j in range(5):\n",
    "\n",
    "        time.sleep(1)\n",
    "\n",
    "        for i in range(0, 50):\n",
    "            browser.execute_script('arguments[0].scrollIntoView(true);',\n",
    "                                   browser.find_element_by_partial_link_text('Актуальные новости'))\n",
    "\n",
    "            (browser.find_elements_by_css_selector('.news-title>:nth-child(1)'))[i].click()\n",
    "            time.sleep(1)\n",
    "            news_tank0.append(\n",
    "                re.sub(r\"[\\n]\", \" \", browser.find_elements_by_css_selector(\"[class='panel-body']\")[0].text))\n",
    "            news_tank1.append(\n",
    "                re.sub(r\"[\\n]\", \" \", browser.find_elements_by_css_selector(\"[class='panel-body']\")[1].text))\n",
    "            browser.find_element_by_partial_link_text('Актуальные новости').click()\n",
    "\n",
    "        browser.find_element_by_css_selector('.next').click()\n",
    "\n",
    "    for i in range(len(news_tank1)):\n",
    "        if 'Сегодня' in news_tank1[i]:\n",
    "            news_tank1[i] = re.sub(r\"['Сегодня']\", datetime.datetime.now().strftime(\"%d.%m.%Y\"), news_tank1[i])\n",
    "\n",
    "    file_writer(news_tank0, news_tank1)\n",
    "\n",
    "    browser.quit()\n",
    "\n",
    "finally:\n",
    "    file_writer(news_tank0, news_tank1)\n",
    "    browser.quit()"
   ]
  },
  {
   "cell_type": "code",
   "execution_count": 1,
   "metadata": {},
   "outputs": [],
   "source": [
    "# Обработка DF: группировка столбцов\n",
    "\n",
    "import pandas as pd\n",
    "import datetime\n",
    "import numpy as np\n",
    "\n",
    "df_vk = pd.read_csv('vk_news.csv')\n",
    "df_itmo = pd.read_csv('isu_news.csv')\n",
    "\n",
    "now = datetime.datetime.now().strftime(\"%d.%m\")\n",
    "\n",
    "views = []\n",
    "text = []\n",
    "date = []\n",
    "section = []\n",
    "autor = []\n",
    "division = []\n",
    "tags = []\n",
    "\n",
    "for i in range(len(df_itmo.views_reg_text)):\n",
    "    text.append(df_itmo.views_reg_text[i][df_itmo.views_reg_text[i].index(' ') + 4:])\n",
    "    views.append(df_itmo.views_reg_text[i][:df_itmo.views_reg_text[i].index(' ')])\n",
    "    date.append(df_itmo.data[i][df_itmo.data[i].index(' ') + 1:df_itmo.data[i].index('Раздел') - 1])\n",
    "    section.append(df_itmo.data[i][df_itmo.data[i].index('Раздел') + 8:df_itmo.data[i].index('Опубликовал') - 1])\n",
    "    if 'Подразделен' in df_itmo.data[i]:\n",
    "        autor.append(df_itmo.data[i][df_itmo.data[i].index(' ',df_itmo.data[i].index('Опубликовал')) + 1:df_itmo.data[i].index('Подразделен')-1])\n",
    "    elif 'Теги' in df_itmo.data[i]:\n",
    "        autor.append(df_itmo.data[i][df_itmo.data[i].index(' ',df_itmo.data[i].index('Опубликовал')) + 1:df_itmo.data[i].index('Теги')-1])\n",
    "    else:\n",
    "        autor.append(df_itmo.data[i][df_itmo.data[i].index(' ',df_itmo.data[i].index('Опубликовал')) + 1:])\n",
    "    \n",
    "    if ('Подразделен' in df_itmo.data[i]) & ('Теги' in df_itmo.data[i]):\n",
    "        division.append(df_itmo.data[i][df_itmo.data[i].index(' ',df_itmo.data[i].index('Подразделен')) + 1:df_itmo.data[i].index('Теги')-1])\n",
    "    else:\n",
    "        division.append(df_itmo.data[i][df_itmo.data[i].index(' ',df_itmo.data[i].index('Подразделен')) + 1:])\n",
    "    \n",
    "    if 'Теги' in df_itmo.data[i]:\n",
    "        tags.append(df_itmo.data[i][df_itmo.data[i].index(' ',df_itmo.data[i].index('Теги')) + 1:])\n",
    "    else:\n",
    "        tags.append(np.nan)\n",
    "\n",
    "    \n",
    "df_itmo['text'] = pd.DataFrame(text)\n",
    "df_itmo['views'] = pd.DataFrame(views)\n",
    "df_itmo['date'] = pd.DataFrame(date)\n",
    "df_itmo['section'] = pd.DataFrame(section)\n",
    "df_itmo['autor'] = pd.DataFrame(autor)\n",
    "df_itmo['division'] = pd.DataFrame(division)\n",
    "df_itmo['tags'] = pd.DataFrame(tags)\n",
    "\n",
    "del df_itmo['views_reg_text']\n",
    "del df_itmo['data']\n",
    "\n",
    "words = []\n",
    "\n",
    "for i in range(len(df_itmo.text)):\n",
    "    words.append(df_itmo.text[i].lower().replace(';',' ').replace('«',' ').replace('»',' ').replace('.',' ').replace(',',' ').replace(':',' ').replace('?',' ').replace('!',' ').replace('(',' ').replace(')',' ').replace('-',' ').replace('/',' ').split())\n",
    "df_itmo['words'] = words"
   ]
  },
  {
   "cell_type": "code",
   "execution_count": 4,
   "metadata": {},
   "outputs": [],
   "source": [
    "# подсчет TF-IDF\n",
    "\n",
    "import collections\n",
    "import math\n",
    "\n",
    "def compute_tf(text):\n",
    "    tf_text = collections.Counter(text)\n",
    "    for i in tf_text:\n",
    "        tf_text[i] = tf_text[i]/float(len(text))\n",
    "    return tf_text\n",
    "\n",
    "def compute_idf(word, corpus):\n",
    "    return math.log10(len(corpus)/sum([1.0 for i in corpus if word in i]))\n",
    "\n",
    "words = []\n",
    "for i in range(len(df_itmo)):\n",
    "    words.extend(df_itmo.words[i])\n",
    "    \n",
    "words = list(pd.Series(words).unique())\n",
    "\n",
    "tf = []\n",
    "\n",
    "for i in range(len(df_itmo.words)):\n",
    "    tf_temp = []\n",
    "    counted_words = dict(compute_tf(df_itmo.words[i]))\n",
    "    for j in range(len(words)):\n",
    "        if words[j] in counted_words:\n",
    "            idf = compute_idf(words[j],df_itmo.words[i])\n",
    "            tf_temp.append(counted_words[words[j]]*idf)\n",
    "        else:\n",
    "            tf_temp.append(np.nan)\n",
    "    tf.append(tf_temp)\n",
    "    \n",
    "tf_idf = pd.DataFrame(tf)"
   ]
  },
  {
   "cell_type": "code",
   "execution_count": 6,
   "metadata": {},
   "outputs": [
    {
     "data": {
      "text/plain": [
       "0        0.065051\n",
       "1        0.053474\n",
       "2        0.040383\n",
       "3        0.024138\n",
       "4        0.016991\n",
       "           ...   \n",
       "12143    0.019107\n",
       "12144    0.019107\n",
       "12145    0.019107\n",
       "12146    0.019107\n",
       "12147    0.019107\n",
       "Length: 12148, dtype: float64"
      ]
     },
     "execution_count": 6,
     "metadata": {},
     "output_type": "execute_result"
    }
   ],
   "source": [
    "tf_idf.max()"
   ]
  },
  {
   "cell_type": "code",
   "execution_count": 12,
   "metadata": {},
   "outputs": [
    {
     "data": {
      "text/plain": [
       "array(['Образование', 'Разное', 'Международная деятельность',\n",
       "       'Наука и инновации', 'Карьера', 'Достижения', 'Досуг', 'Бизнес',\n",
       "       'Социальная активность'], dtype=object)"
      ]
     },
     "execution_count": 12,
     "metadata": {},
     "output_type": "execute_result"
    }
   ],
   "source": [
    "pd.Series(df_itmo.section).unique()"
   ]
  },
  {
   "cell_type": "code",
   "execution_count": 22,
   "metadata": {
    "collapsed": true
   },
   "outputs": [
    {
     "ename": "NameError",
     "evalue": "name 'datetime' is not defined",
     "output_type": "error",
     "traceback": [
      "\u001b[1;31m---------------------------------------------------------------------------\u001b[0m",
      "\u001b[1;31mNameError\u001b[0m                                 Traceback (most recent call last)",
      "\u001b[1;32m<ipython-input-22-3ea35c6a688c>\u001b[0m in \u001b[0;36m<module>\u001b[1;34m\u001b[0m\n\u001b[0;32m      4\u001b[0m \u001b[0mdf_itmo\u001b[0m \u001b[1;33m=\u001b[0m \u001b[0mpd\u001b[0m\u001b[1;33m.\u001b[0m\u001b[0mread_csv\u001b[0m\u001b[1;33m(\u001b[0m\u001b[1;34m'isu_news.csv'\u001b[0m\u001b[1;33m)\u001b[0m\u001b[1;33m\u001b[0m\u001b[1;33m\u001b[0m\u001b[0m\n\u001b[0;32m      5\u001b[0m \u001b[1;33m\u001b[0m\u001b[0m\n\u001b[1;32m----> 6\u001b[1;33m \u001b[0mnow\u001b[0m \u001b[1;33m=\u001b[0m \u001b[0mdatetime\u001b[0m\u001b[1;33m.\u001b[0m\u001b[0mdatetime\u001b[0m\u001b[1;33m.\u001b[0m\u001b[0mnow\u001b[0m\u001b[1;33m(\u001b[0m\u001b[1;33m)\u001b[0m\u001b[1;33m.\u001b[0m\u001b[0mstrftime\u001b[0m\u001b[1;33m(\u001b[0m\u001b[1;34m\"%d.%m\"\u001b[0m\u001b[1;33m)\u001b[0m\u001b[1;33m\u001b[0m\u001b[1;33m\u001b[0m\u001b[0m\n\u001b[0m",
      "\u001b[1;31mNameError\u001b[0m: name 'datetime' is not defined"
     ]
    }
   ],
   "source": [
    "import pandas as pd\n",
    "\n",
    "df_vk = pd.read_csv('vk_news.csv')\n",
    "df_itmo = pd.read_csv('isu_news.csv')\n",
    "\n",
    "now = datetime.datetime.now().strftime(\"%d.%m\")"
   ]
  },
  {
   "cell_type": "code",
   "execution_count": 733,
   "metadata": {},
   "outputs": [],
   "source": [
    "def data_clear(df):\n",
    "    for i in range(len(df.date)):\n",
    "        if (datetime.datetime.strptime(df.date[i],\"%d.%m.%Y\") >= datetime.datetime.strptime(now + '.2019',\"%d.%m.%Y\")) == False:\n",
    "            df = df[:i]\n",
    "            break\n",
    "    return df\n",
    "\n",
    "def weekday_hist(df):\n",
    "    week = []\n",
    "    for i in range(len(df.date)):\n",
    "        week.append(datetime.datetime.strptime(df.date[i],\"%d.%m.%Y\").weekday())\n",
    "    pd.DataFrame(week).hist()"
   ]
  },
  {
   "cell_type": "code",
   "execution_count": 734,
   "metadata": {},
   "outputs": [],
   "source": [
    "df_vk = data_clear(df_vk)\n",
    "df_itmo = data_clear(df_itmo)"
   ]
  },
  {
   "cell_type": "code",
   "execution_count": 735,
   "metadata": {},
   "outputs": [
    {
     "data": {
      "image/png": "[encoded data removed]",
      "text/plain": [
       "<Figure size 432x288 with 1 Axes>"
      ]
     },
     "metadata": {
      "needs_background": "light"
     },
     "output_type": "display_data"
    },
    {
     "data": {
      "image/png": "[encoded data removed]",
      "text/plain": [
       "<Figure size 432x288 with 1 Axes>"
      ]
     },
     "metadata": {
      "needs_background": "light"
     },
     "output_type": "display_data"
    }
   ],
   "source": [
    "weekday_hist(df_vk)\n",
    "weekday_hist(df_itmo)"
   ]
  },
  {
   "cell_type": "code",
   "execution_count": 739,
   "metadata": {},
   "outputs": [],
   "source": [
    "from selenium import webdriver\n",
    "import time\n",
    "import csv\n",
    "import datetime\n",
    "\n",
    "\n",
    "def file_writer(news_header_txt, news_annotation_txt, news_date_txt, news_section_txt):\n",
    "    with open('isu_news.csv', 'w', encoding=\"utf-8\") as file:\n",
    "        a_pen = csv.writer(file)\n",
    "        a_pen.writerow(('header', 'text', 'date', 'section'))\n",
    "\n",
    "        for i in range(len(news_header_txt)):\n",
    "            a_pen.writerow((news_header_txt[i], news_annotation_txt[i], news_date_txt[i], news_section_txt[i]))\n",
    "\n",
    "\n",
    "link = \"https://isu.ifmo.ru\"\n",
    "link_news = 'https://isu.ifmo.ru/pls/apex/f?p=2143:26:114883727231797::NO:RP:NM_ARCHIVE,NM_FAV:,'\n",
    "\n",
    "# options = webdriver.ChromeOptions()\n",
    "# options.add_argument('headless')\n",
    "# browser = webdriver.Chrome(chrome_options=options)\n",
    "\n",
    "browser = webdriver.Chrome()\n",
    "browser.get(link)\n",
    "\n",
    "login = browser.find_element_by_id('P101_USERNAME')\n",
    "login.send_keys(\"287327\")\n",
    "password = browser.find_element_by_id('P101_PASSWORD')\n",
    "password.send_keys(\"SIMITtashit16\")\n",
    "login_button = browser.find_element_by_id(\"login-button\")\n",
    "login_button.click()"
   ]
  },
  {
   "cell_type": "code",
   "execution_count": 591,
   "metadata": {},
   "outputs": [],
   "source": [
    "\n",
    "browser.get(link_news)\n",
    "\n",
    "time.sleep(5)\n",
    "\n",
    "news_header_txt = []\n",
    "news_annotation_txt = []\n",
    "news_date_txt = []\n",
    "news_section_txt = []\n",
    "\n",
    "news_text_txt = []\n"
   ]
  },
  {
   "cell_type": "code",
   "execution_count": 582,
   "metadata": {},
   "outputs": [
    {
     "name": "stdout",
     "output_type": "stream",
     "text": [
      "0 48\n"
     ]
    }
   ],
   "source": [
    "print(*range(0,49,48))"
   ]
  },
  {
   "cell_type": "code",
   "execution_count": 612,
   "metadata": {},
   "outputs": [
    {
     "ename": "ElementClickInterceptedException",
     "evalue": "Message: element click intercepted: Element <h3 class=\"text-darker-gray\">...</h3> is not clickable at point (166, 45). Other element would receive the click: <a href=\"https://isu.ifmo.ru/portal/107776842983331\" class=\"navbar-brand\">...</a>\n  (Session info: chrome=79.0.3945.130)\n",
     "output_type": "error",
     "traceback": [
      "\u001b[1;31m---------------------------------------------------------------------------\u001b[0m",
      "\u001b[1;31mElementClickInterceptedException\u001b[0m          Traceback (most recent call last)",
      "\u001b[1;32m<ipython-input-612-0f98cdf33bbe>\u001b[0m in \u001b[0;36m<module>\u001b[1;34m\u001b[0m\n\u001b[0;32m      9\u001b[0m \u001b[0mnews_section_txt\u001b[0m\u001b[1;33m.\u001b[0m\u001b[0mappend\u001b[0m\u001b[1;33m(\u001b[0m\u001b[1;33m(\u001b[0m\u001b[0mbrowser\u001b[0m\u001b[1;33m.\u001b[0m\u001b[0mfind_elements_by_css_selector\u001b[0m\u001b[1;33m(\u001b[0m\u001b[1;34m'.news-footer-info[data-container=\"body\"]'\u001b[0m\u001b[1;33m)\u001b[0m\u001b[1;33m)\u001b[0m\u001b[1;33m[\u001b[0m\u001b[0mi\u001b[0m\u001b[1;33m]\u001b[0m\u001b[1;33m.\u001b[0m\u001b[0mtext\u001b[0m\u001b[1;33m)\u001b[0m\u001b[1;33m\u001b[0m\u001b[1;33m\u001b[0m\u001b[0m\n\u001b[0;32m     10\u001b[0m \u001b[1;33m\u001b[0m\u001b[0m\n\u001b[1;32m---> 11\u001b[1;33m \u001b[1;33m(\u001b[0m\u001b[0mbrowser\u001b[0m\u001b[1;33m.\u001b[0m\u001b[0mfind_elements_by_css_selector\u001b[0m\u001b[1;33m(\u001b[0m\u001b[1;34m'.text-darker-gray'\u001b[0m\u001b[1;33m)\u001b[0m\u001b[1;33m)\u001b[0m\u001b[1;33m[\u001b[0m\u001b[0mi\u001b[0m\u001b[1;33m]\u001b[0m\u001b[1;33m.\u001b[0m\u001b[0mclick\u001b[0m\u001b[1;33m(\u001b[0m\u001b[1;33m)\u001b[0m\u001b[1;33m\u001b[0m\u001b[1;33m\u001b[0m\u001b[0m\n\u001b[0m\u001b[0;32m     12\u001b[0m \u001b[0mnews_text_txt\u001b[0m\u001b[1;33m.\u001b[0m\u001b[0mappend\u001b[0m\u001b[1;33m(\u001b[0m\u001b[0mre\u001b[0m\u001b[1;33m.\u001b[0m\u001b[0msub\u001b[0m\u001b[1;33m(\u001b[0m\u001b[1;34mr\"[\\n]\"\u001b[0m\u001b[1;33m,\u001b[0m \u001b[1;34m\" \"\u001b[0m\u001b[1;33m,\u001b[0m \u001b[0mbrowser\u001b[0m\u001b[1;33m.\u001b[0m\u001b[0mfind_element_by_css_selector\u001b[0m\u001b[1;33m(\u001b[0m\u001b[1;34m'.panel-with-text'\u001b[0m\u001b[1;33m)\u001b[0m\u001b[1;33m.\u001b[0m\u001b[0mtext\u001b[0m\u001b[1;33m)\u001b[0m\u001b[1;33m)\u001b[0m\u001b[1;33m\u001b[0m\u001b[1;33m\u001b[0m\u001b[0m\n\u001b[0;32m     13\u001b[0m \u001b[0mbrowser\u001b[0m\u001b[1;33m.\u001b[0m\u001b[0mfind_element_by_partial_link_text\u001b[0m\u001b[1;33m(\u001b[0m\u001b[1;34m'Актуальные новости'\u001b[0m\u001b[1;33m)\u001b[0m\u001b[1;33m.\u001b[0m\u001b[0mclick\u001b[0m\u001b[1;33m(\u001b[0m\u001b[1;33m)\u001b[0m\u001b[1;33m\u001b[0m\u001b[1;33m\u001b[0m\u001b[0m\n",
      "\u001b[1;32m~\\Anaconda3\\lib\\site-packages\\selenium\\webdriver\\remote\\webelement.py\u001b[0m in \u001b[0;36mclick\u001b[1;34m(self)\u001b[0m\n\u001b[0;32m     78\u001b[0m     \u001b[1;32mdef\u001b[0m \u001b[0mclick\u001b[0m\u001b[1;33m(\u001b[0m\u001b[0mself\u001b[0m\u001b[1;33m)\u001b[0m\u001b[1;33m:\u001b[0m\u001b[1;33m\u001b[0m\u001b[1;33m\u001b[0m\u001b[0m\n\u001b[0;32m     79\u001b[0m         \u001b[1;34m\"\"\"Clicks the element.\"\"\"\u001b[0m\u001b[1;33m\u001b[0m\u001b[1;33m\u001b[0m\u001b[0m\n\u001b[1;32m---> 80\u001b[1;33m         \u001b[0mself\u001b[0m\u001b[1;33m.\u001b[0m\u001b[0m_execute\u001b[0m\u001b[1;33m(\u001b[0m\u001b[0mCommand\u001b[0m\u001b[1;33m.\u001b[0m\u001b[0mCLICK_ELEMENT\u001b[0m\u001b[1;33m)\u001b[0m\u001b[1;33m\u001b[0m\u001b[1;33m\u001b[0m\u001b[0m\n\u001b[0m\u001b[0;32m     81\u001b[0m \u001b[1;33m\u001b[0m\u001b[0m\n\u001b[0;32m     82\u001b[0m     \u001b[1;32mdef\u001b[0m \u001b[0msubmit\u001b[0m\u001b[1;33m(\u001b[0m\u001b[0mself\u001b[0m\u001b[1;33m)\u001b[0m\u001b[1;33m:\u001b[0m\u001b[1;33m\u001b[0m\u001b[1;33m\u001b[0m\u001b[0m\n",
      "\u001b[1;32m~\\Anaconda3\\lib\\site-packages\\selenium\\webdriver\\remote\\webelement.py\u001b[0m in \u001b[0;36m_execute\u001b[1;34m(self, command, params)\u001b[0m\n\u001b[0;32m    631\u001b[0m             \u001b[0mparams\u001b[0m \u001b[1;33m=\u001b[0m \u001b[1;33m{\u001b[0m\u001b[1;33m}\u001b[0m\u001b[1;33m\u001b[0m\u001b[1;33m\u001b[0m\u001b[0m\n\u001b[0;32m    632\u001b[0m         \u001b[0mparams\u001b[0m\u001b[1;33m[\u001b[0m\u001b[1;34m'id'\u001b[0m\u001b[1;33m]\u001b[0m \u001b[1;33m=\u001b[0m \u001b[0mself\u001b[0m\u001b[1;33m.\u001b[0m\u001b[0m_id\u001b[0m\u001b[1;33m\u001b[0m\u001b[1;33m\u001b[0m\u001b[0m\n\u001b[1;32m--> 633\u001b[1;33m         \u001b[1;32mreturn\u001b[0m \u001b[0mself\u001b[0m\u001b[1;33m.\u001b[0m\u001b[0m_parent\u001b[0m\u001b[1;33m.\u001b[0m\u001b[0mexecute\u001b[0m\u001b[1;33m(\u001b[0m\u001b[0mcommand\u001b[0m\u001b[1;33m,\u001b[0m \u001b[0mparams\u001b[0m\u001b[1;33m)\u001b[0m\u001b[1;33m\u001b[0m\u001b[1;33m\u001b[0m\u001b[0m\n\u001b[0m\u001b[0;32m    634\u001b[0m \u001b[1;33m\u001b[0m\u001b[0m\n\u001b[0;32m    635\u001b[0m     \u001b[1;32mdef\u001b[0m \u001b[0mfind_element\u001b[0m\u001b[1;33m(\u001b[0m\u001b[0mself\u001b[0m\u001b[1;33m,\u001b[0m \u001b[0mby\u001b[0m\u001b[1;33m=\u001b[0m\u001b[0mBy\u001b[0m\u001b[1;33m.\u001b[0m\u001b[0mID\u001b[0m\u001b[1;33m,\u001b[0m \u001b[0mvalue\u001b[0m\u001b[1;33m=\u001b[0m\u001b[1;32mNone\u001b[0m\u001b[1;33m)\u001b[0m\u001b[1;33m:\u001b[0m\u001b[1;33m\u001b[0m\u001b[1;33m\u001b[0m\u001b[0m\n",
      "\u001b[1;32m~\\Anaconda3\\lib\\site-packages\\selenium\\webdriver\\remote\\webdriver.py\u001b[0m in \u001b[0;36mexecute\u001b[1;34m(self, driver_command, params)\u001b[0m\n\u001b[0;32m    319\u001b[0m         \u001b[0mresponse\u001b[0m \u001b[1;33m=\u001b[0m \u001b[0mself\u001b[0m\u001b[1;33m.\u001b[0m\u001b[0mcommand_executor\u001b[0m\u001b[1;33m.\u001b[0m\u001b[0mexecute\u001b[0m\u001b[1;33m(\u001b[0m\u001b[0mdriver_command\u001b[0m\u001b[1;33m,\u001b[0m \u001b[0mparams\u001b[0m\u001b[1;33m)\u001b[0m\u001b[1;33m\u001b[0m\u001b[1;33m\u001b[0m\u001b[0m\n\u001b[0;32m    320\u001b[0m         \u001b[1;32mif\u001b[0m \u001b[0mresponse\u001b[0m\u001b[1;33m:\u001b[0m\u001b[1;33m\u001b[0m\u001b[1;33m\u001b[0m\u001b[0m\n\u001b[1;32m--> 321\u001b[1;33m             \u001b[0mself\u001b[0m\u001b[1;33m.\u001b[0m\u001b[0merror_handler\u001b[0m\u001b[1;33m.\u001b[0m\u001b[0mcheck_response\u001b[0m\u001b[1;33m(\u001b[0m\u001b[0mresponse\u001b[0m\u001b[1;33m)\u001b[0m\u001b[1;33m\u001b[0m\u001b[1;33m\u001b[0m\u001b[0m\n\u001b[0m\u001b[0;32m    322\u001b[0m             response['value'] = self._unwrap_value(\n\u001b[0;32m    323\u001b[0m                 response.get('value', None))\n",
      "\u001b[1;32m~\\Anaconda3\\lib\\site-packages\\selenium\\webdriver\\remote\\errorhandler.py\u001b[0m in \u001b[0;36mcheck_response\u001b[1;34m(self, response)\u001b[0m\n\u001b[0;32m    240\u001b[0m                 \u001b[0malert_text\u001b[0m \u001b[1;33m=\u001b[0m \u001b[0mvalue\u001b[0m\u001b[1;33m[\u001b[0m\u001b[1;34m'alert'\u001b[0m\u001b[1;33m]\u001b[0m\u001b[1;33m.\u001b[0m\u001b[0mget\u001b[0m\u001b[1;33m(\u001b[0m\u001b[1;34m'text'\u001b[0m\u001b[1;33m)\u001b[0m\u001b[1;33m\u001b[0m\u001b[1;33m\u001b[0m\u001b[0m\n\u001b[0;32m    241\u001b[0m             \u001b[1;32mraise\u001b[0m \u001b[0mexception_class\u001b[0m\u001b[1;33m(\u001b[0m\u001b[0mmessage\u001b[0m\u001b[1;33m,\u001b[0m \u001b[0mscreen\u001b[0m\u001b[1;33m,\u001b[0m \u001b[0mstacktrace\u001b[0m\u001b[1;33m,\u001b[0m \u001b[0malert_text\u001b[0m\u001b[1;33m)\u001b[0m\u001b[1;33m\u001b[0m\u001b[1;33m\u001b[0m\u001b[0m\n\u001b[1;32m--> 242\u001b[1;33m         \u001b[1;32mraise\u001b[0m \u001b[0mexception_class\u001b[0m\u001b[1;33m(\u001b[0m\u001b[0mmessage\u001b[0m\u001b[1;33m,\u001b[0m \u001b[0mscreen\u001b[0m\u001b[1;33m,\u001b[0m \u001b[0mstacktrace\u001b[0m\u001b[1;33m)\u001b[0m\u001b[1;33m\u001b[0m\u001b[1;33m\u001b[0m\u001b[0m\n\u001b[0m\u001b[0;32m    243\u001b[0m \u001b[1;33m\u001b[0m\u001b[0m\n\u001b[0;32m    244\u001b[0m     \u001b[1;32mdef\u001b[0m \u001b[0m_value_or_default\u001b[0m\u001b[1;33m(\u001b[0m\u001b[0mself\u001b[0m\u001b[1;33m,\u001b[0m \u001b[0mobj\u001b[0m\u001b[1;33m,\u001b[0m \u001b[0mkey\u001b[0m\u001b[1;33m,\u001b[0m \u001b[0mdefault\u001b[0m\u001b[1;33m)\u001b[0m\u001b[1;33m:\u001b[0m\u001b[1;33m\u001b[0m\u001b[1;33m\u001b[0m\u001b[0m\n",
      "\u001b[1;31mElementClickInterceptedException\u001b[0m: Message: element click intercepted: Element <h3 class=\"text-darker-gray\">...</h3> is not clickable at point (166, 45). Other element would receive the click: <a href=\"https://isu.ifmo.ru/portal/107776842983331\" class=\"navbar-brand\">...</a>\n  (Session info: chrome=79.0.3945.130)\n"
     ]
    }
   ],
   "source": [
    "browser.find_element_by_css_selector('.next').click()\n",
    "i = 0\n",
    "\n",
    "time.sleep(1)\n",
    "\n",
    "news_header_txt.append((browser.find_elements_by_css_selector('.text-darker-gray'))[i].text)\n",
    "news_annotation_txt.append((browser.find_elements_by_css_selector('.text-dark-gray.news-annotation'))[i].text)\n",
    "news_date_txt.append((browser.find_elements_by_css_selector('.text-muted.news-footer-info'))[i].text)\n",
    "news_section_txt.append((browser.find_elements_by_css_selector('.news-footer-info[data-container=\"body\"]'))[i].text)\n",
    "\n",
    "(browser.find_elements_by_css_selector('.text-darker-gray'))[i].click()\n",
    "news_text_txt.append(re.sub(r\"[\\n]\", \" \", browser.find_element_by_css_selector('.panel-with-text').text))\n",
    "browser.find_element_by_partial_link_text('Актуальные новости').click()\n"
   ]
  },
  {
   "cell_type": "code",
   "execution_count": 593,
   "metadata": {},
   "outputs": [],
   "source": []
  },
  {
   "cell_type": "code",
   "execution_count": null,
   "metadata": {},
   "outputs": [],
   "source": [
    "\n",
    "    browser.find_element_by_css_selector('.next').click()\n",
    "#         time.sleep(1)\n",
    "\n",
    "for i in range(len(news_date_txt)):\n",
    "    if news_date_txt[i] == 'Сегодня':\n",
    "        news_date_txt[i] = datetime.datetime.now().strftime(\"%d.%m.%Y\")\n",
    "\n",
    "file_writer(news_date_txt, news_section_txt, news_header_txt, news_annotation_txt, news_text_txt)\n",
    "\n",
    "browser.quit()"
   ]
  },
  {
   "cell_type": "code",
   "execution_count": 564,
   "metadata": {},
   "outputs": [],
   "source": []
  },
  {
   "cell_type": "code",
   "execution_count": 563,
   "metadata": {
    "collapsed": true
   },
   "outputs": [
    {
     "data": {
      "text/plain": [
       "\"Университет ESIEE Paris (Ecole Superieure d'Ingenieurs en Electrotechnique et Electronique) приглашает магистрантов пройти 6-месячную стажировку в области фотоники за счет средств проекта Erasmus+. Отбор стажеров производится на конкурсной основе французским вузом.    Тема стажировки: Optical Fiber to device coupling on an integrated polymer-based technology for high speed communication  Responsibilities / Tasks: Research current status of relevant technology Learn the simulation software, improve the simulator and generate data output Learn the lab equipment, improve the bench setup and generate data output Calibrate the simulator according to the experiment with data Measurement data post processing  Desired Skills: Masters studies in photonics or semiconductor physics Analytical approach to problem solving Comfortable with text-based coding Strong motivational and self-learning skills  Продолжительность стажировки: 6 месяцев в 2020 году, даты могут варьироваться. Заявку (CV & cover letter) следует направить на join-us@icon-photonics.com и jean-luc.polleux@esiee.fr. Дата окончания приема заявок: прием заявок закрывается по мере конкурсного отбора подходящих кандидатов. Более подробная информация о стажировке доступна в прикрепленных флаерах.   В случае положительного решения французского вуза о прохождении стажировки студенту необходимо обратиться в отдел академической мобильности ИТМО для оформления документов на отъезд. Контакты: join-us@icon-photonics.com, jean-luc.polleux@esiee.fr.\""
      ]
     },
     "execution_count": 563,
     "metadata": {},
     "output_type": "execute_result"
    }
   ],
   "source": [
    "import re\n",
    "re.sub(r\"[\\n]\", \" \", browser.find_element_by_css_selector('.panel-with-text').text)"
   ]
  },
  {
   "cell_type": "code",
   "execution_count": 668,
   "metadata": {},
   "outputs": [],
   "source": [
    "browser.find_element_by_css_selector('.next').click()"
   ]
  },
  {
   "cell_type": "code",
   "execution_count": 720,
   "metadata": {},
   "outputs": [],
   "source": [
    "browser.execute_script('arguments[0].scrollIntoView(true);', browser.find_element_by_partial_link_text('Актуальные новости'))"
   ]
  },
  {
   "cell_type": "code",
   "execution_count": 721,
   "metadata": {},
   "outputs": [],
   "source": [
    "browser.find_elements_by_css_selector('.text-darker-gray')[0].click()"
   ]
  },
  {
   "cell_type": "code",
   "execution_count": 674,
   "metadata": {},
   "outputs": [],
   "source": [
    "browser.find_element_by_partial_link_text('Актуальные новости').click()"
   ]
  },
  {
   "cell_type": "code",
   "execution_count": 709,
   "metadata": {},
   "outputs": [],
   "source": [
    "browser.quit()"
   ]
  },
  {
   "cell_type": "code",
   "execution_count": 700,
   "metadata": {},
   "outputs": [],
   "source": [
    "browser.execute_script(\"document.body.style.zoom='50%'\")"
   ]
  },
  {
   "cell_type": "code",
   "execution_count": 768,
   "metadata": {},
   "outputs": [
    {
     "data": {
      "text/plain": [
       "'Теги:\\n19.06.012 курсОсобенности количественного описания эксперимента в промышленной экологии и биотехнологииаспирантураэкзамен'"
      ]
     },
     "execution_count": 768,
     "metadata": {},
     "output_type": "execute_result"
    }
   ],
   "source": [
    "browser.find_elements_by_css_selector(\".dl-vertical\")[4].text"
   ]
  },
  {
   "cell_type": "code",
   "execution_count": 770,
   "metadata": {
    "collapsed": true
   },
   "outputs": [
    {
     "data": {
      "text/plain": [
       "'246 RU Уважаемые студенты!  Информируем вас о том, что согласно приказу о проведении промежуточной аттестации в осеннем семестре № 1577-од от 5 декабря 2019 года повторная промежуточная аттестации (далее – ППА) состоится в период с 29 января по 15 апреля 2020 года.  ППА  (29.01.2020-15.04.2020) делится на периоды: Период 1. 1-я попытка (ППА1) и 2-я попытки (ППА2): 29.01.2020 – 28.03.2020 – ликвидация академических задолженностей по текущему контролю, сдача экзаменов/зачетов/дифференцированных зачетов у преподавателей и на комиссии в соответствии с расписанием консультаций и комиссий. Период 2. Только 2-я попытка (ППА2): 31.03.2020 – 15.04.2020 – ликвидация академических задолженностей на комиссии в соответствии с расписанием комиссий.  В соответствии с пунктом 2 ст.58 Федерального закона от 29.12.2012 №273-ФЗ «Об образовании в Российской Федерации» неудовлетворительные результаты промежуточной аттестации по одному или нескольким учебным предметам, курсам, дисциплинам (модулям) образовательной программы («неудовлетворительно», «незачет») или непрохождение промежуточной аттестации при отсутствии уважительных причин (неявка) признаются академической задолженностью.  1-я попытка (ППА1) и 2-я попытки (ППА2): 29.01.2020 – 28.03.2020 – ликвидация академических задолженностей по текущему контролю, сдача экзаменов/зачетов/дифференцированных зачетов у преподавателей. В случае неудовлетворительного результата или непрохождения аттестации у преподавателя (по неуважительной причине) в рамках ППА 1 ликвидация академических задолженностей осуществляется на комиссии (ППА 2).  Для сдачи ППА1 Вам необходимо записаться на консультацию к преподавателю в соответствии с предоставленным вариантом: через ИСУ – расписание консультаций на странице преподавателя в ИСУ; через гугл-форму – информация будет доступна по ссылкам: http://edu.ifmo.ru/pages/315/ и https://student.itmo.ru/remidterms/. через функционал сайта факультета/института/кластера – информация будет доступна по ссылкам:  http://edu.ifmo.ru/pages/315/ и https://student.itmo.ru/remidterms/. В силу того, что расписание преподавателей на весенний семестр находится в стадии формирования, то информация по датам консультаций будет дополняться и отображаться в выбранном ранее варианте (ИСУ, гугл-форма, сайт).  Если вы не знаете, к какому преподавателю должны сдавать академическую задолженность и/или не знаете его график консультаций, пожалуйста, обращайтесь:   Факультет Контактное лицо СУиР Никитина Мария Владимировна Андреев Юрий Сергеевич ПИиКТ Рущенко Нина Геннадьевна БИТ Филькова Инна Александровна ИТиП Харченко Татьяна Владимировна ИКТ Супрун Антон Сергеевич ИДУ Пяткина Елена Григорьевна ЦТ Климова Александра Сергеевна ПО Фокина Мария Ивановна ЛФО Смирнова Ирина Геннадьевна ФиОИ Козлова Наталия Дмитриевна ФТ Музыченко Яна Борисовна НТЭ Рябова Татьяна Владимировна ПБИ Гунькова Полина Исаевна ХБК Румянцева Виктория Игоревна ТМИ Кальниченко Юлия Олеговна ИМРиП, ОП «Научная коммуникация» Прокуратова Валерия Геннадьевна ИМРиП, ОП «Искусство и наука / Art&Science» Сахариева Алия ИМРиП, ОП «Анализ культурных данных и визуализация/ Data, Culture and Visualization» Пучковская Антонина Алексеевна ИМРиП, ОП «Иностранные языки и информационные технологии / Humanities and IT» Чернышева Анастасия Вадимовна   Получить консультацию по дисциплинам общеуниверситетских модулей Вы можете у контактных лиц – информация доступна по ссылке: https://student.itmo.ru/university_modules/ Если ни одно из подразделений не смогло Вам помочь, обращайтесь в Центр качества организации учебного процесса: Контактное лицо: Кристина Олеговна Тишкина, заместитель директора центра edu.quality@itmo.ru  +7 (931) 286-90-72 Лично на Кронверкском – ауд. 322 или на Ломоносова – ауд. 2218   Основные даты ППА1  01.02.2020 – формирование Студенческим офисом проекта № 1 Приказа на отчисление за невыполнение обучающимся обязанностей по добросовестному освоению образовательной программы и невыполнение учебного плана для проверки корректности информации  о задолженностях.  Особенности прохождения ППА по дисциплинам, реализуемым в формате онлайн-курса 22.02.2020 – последний день выполнения заданий по дисциплинам, реализуемых в формате онлайн-курса перед  выгрузкой № 1 результатов по курсу (баллов). 26.02.2020 – 28.02.2020 – период, в течение которого только положительные отметки по онлайн-курсам («отлично», «хорошо», «удовлетворительно», «зачтено») отобразятся в Вашей электронной зачетной книжке. 29.02.2020 - 28.03.2020 – период, в течение которого Вы продолжаете осваивать онлайн-курс и набирать недостающие баллы. 28.03.2020: последний день выполнения заданий по дисциплинам, реализуемым в формате онлайн-курса, перед выгрузкой № 2 результатов освоения курса по ППА1; последний день ликвидации задолженностей у преподавателей, если Вы не пришли ни на одну консультацию, 28 марта первая попытка в рамках ППА будет автоматически считаться использованной. Все результаты ППА1 отображаются в Вашей электронной книжке. 31.03.2020 – 01.04.2020 – период, в течение которого все отметки по онлайн-курсам (как положительные, так и отрицательные) отобразятся в Вашей электронной зачетной книжке.  Важно! В период с 29.01.2020 – 28.03.2020 подразделение, отвечающее за  дисциплину (-ы) может назначать комиссии по ней. Если Вы уже в начале ППА реализовали свою первую попытку ликвидации академической задолженности и получили неудовлетворительную оценку или не прошли аттестацию у преподавателя (по неуважительной причине), то Вы сможете прийти на комиссию до начала периода 2. Это также означает, что в случае прохождения комиссии с отметкой «неудовлетворительно» Вы будете отчислены раньше выхода общего Приказа на отчисление за невыполнение обучающимся обязанностей по добросовестному освоению образовательной программы и невыполнение учебного плана 25 апреля, т.к. все попытки ППА уже будут использованы  2.  2-я попытка (ППА2): 31.03.2020 – 15.04.2020 – ликвидация академических  задолженностей на комиссии. На усмотрение комиссии на ППА2 может осуществляться прием задолженностей по текущему контролю дисциплины. Распоряжение с датами заседания и составами комиссий будет размещено не позднее 14 февраля на сайте Студенческого офиса и в разделе «Образование» edu.ifmo.ru. 01.04.2020 - формирование Студенческим офисом проекта № 2 приказа на отчисление студентов с задолженностями для проверки корректности информации  о задолженностях тех студентов, кто выходит на комиссию. 02.04.2020 – 11.04.2020 – приём задолженностей по дисциплинам, реализуемым в формате онлайн-курсов, комиссиями. 12.04.2020 – 15.04.2020 – время, в течение которого утверждаются все ведомости по дисциплинам, реализуемым в формате онлайн-курсов, по итогам полученных баллов. 16.04.2020 – фиксация результатов. По результатам ППА2 студент с академической задолженностью по дисциплине / практике, либо успешно проходит ППА 2 («зачтено», «удовлетворительно», «хорошо», «отлично»), либо не проходит ППА 2 и имеет академическую задолженность («не зачтено», «неудовлетворительно», «неявка»), далее попадает в Приказ на отчисление за невыполнение обучающимся обязанностей по добросовестному освоению образовательной программы и невыполнение учебного плана. 25.04.2020 - формирование Студенческим офисом итогового проекта (проекта № 3) Приказа на отчисление за невыполнение обучающимся обязанностей по добросовестному освоению образовательной программы и невыполнение учебного плана, который и будет утвержден.    Продление ППА по уважительной причине Документы, подтверждающие уважительную причину  неявки на ППА1 или ППА2, обучающийся предоставляет в Студенческий офис в течение трех рабочих дней с момента получения подтверждающих документов. После экспертизы документов Студенческий офис направляет электронные копии документов, подтверждающих уважительную причину  неявки на ППА1 или ППА2,  на факультет студента и в ДОД. Факультет,  в свою очередь, связывается с обучающимся и назначает ему дату проведения комиссии по дисциплинам, реализуемым на своем факультете, и связывается с подразделениями, реализующими другие дисциплины для определения даты комиссии этого подразделения.  Отчисление по собственному желанию в течение ППА Студенческий офис осуществляет прием заявлений об отчислении по собственному желанию до момента передачи факультетами протоколов заседания комиссий по ППА, актов о неявке на ППА в Студенческий офис.  '"
      ]
     },
     "execution_count": 770,
     "metadata": {},
     "output_type": "execute_result"
    }
   ],
   "source": [
    "re.sub(r\"[\\n]\", \" \", browser.find_elements_by_css_selector(\"[class='panel-body']\")[0].text)\n"
   ]
  },
  {
   "cell_type": "code",
   "execution_count": 771,
   "metadata": {},
   "outputs": [
    {
     "data": {
      "text/plain": [
       "'Опубликовано: 29.01.2020 Раздел: Образование Опубликовала: Тишкина К.О. Подразделение: центр качества организации учебного процесса'"
      ]
     },
     "execution_count": 771,
     "metadata": {},
     "output_type": "execute_result"
    }
   ],
   "source": [
    "re.sub(r\"[\\n]\", \" \", browser.find_elements_by_css_selector(\"[class='panel-body']\")[1].text)\n"
   ]
  },
  {
   "cell_type": "code",
   "execution_count": null,
   "metadata": {},
   "outputs": [],
   "source": []
  }
 ],
 "metadata": {
  "kernelspec": {
   "display_name": "Python 3",
   "language": "python",
   "name": "python3"
  },
  "language_info": {
   "codemirror_mode": {
    "name": "ipython",
    "version": 3
   },
   "file_extension": ".py",
   "mimetype": "text/x-python",
   "name": "python",
   "nbconvert_exporter": "python",
   "pygments_lexer": "ipython3",
   "version": "3.7.3"
  }
 },
 "nbformat": 4,
 "nbformat_minor": 2
}
