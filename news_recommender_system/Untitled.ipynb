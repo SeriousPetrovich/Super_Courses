{
 "cells": [
  {
   "cell_type": "code",
   "execution_count": 3,
   "metadata": {},
   "outputs": [],
   "source": [
    "import requests"
   ]
  },
  {
   "cell_type": "code",
   "execution_count": 5,
   "metadata": {},
   "outputs": [],
   "source": [
    "import requests\n",
    "\n",
    "token = 'ed1ce191ed1ce191ed1ce1911bed73bbb4eed1ced1ce191b333d2cee74d3f822410467a'\n",
    "version = 5.103\n",
    "domain = t_o_p_memes"
   ]
  },
  {
   "cell_type": "markdown",
   "metadata": {},
   "source": [
    "https://api.vk.com/method/wall.get?access_token=ed1ce191ed1ce191ed1ce1911bed73bbb4eed1ced1ce191b333d2cee74d3f822410467a&v=5.103&domain=t_o_p_memes"
   ]
  },
  {
   "cell_type": "code",
   "execution_count": null,
   "metadata": {},
   "outputs": [],
   "source": [
    "import requests\n",
    "\n",
    "token = 'ed1ce191ed1ce191ed1ce1911bed73bbb4eed1ced1ce191b333d2cee74d3f822410467a'\n",
    "version = 5.103\n",
    "domain = t_o_p_memes\n",
    "\n",
    "response = requests.get('https://api.vk.com/method/wall.get',\n",
    "                       params={\n",
    "                           'access_token': token,\n",
    "                           'v': version,\n",
    "                           'domain':domain\n",
    "                       }\n",
    "                       )"
   ]
  },
  {
   "cell_type": "code",
   "execution_count": null,
   "metadata": {},
   "outputs": [],
   "source": [
    "import requests\n",
    "\n",
    "token = 'ed1ce191ed1ce191ed1ce1911bed73bbb4eed1ced1ce191b333d2cee74d3f822410467a'\n",
    "version = 5.103\n",
    "domain = t_o_p_memes\n",
    "\n",
    "response = requests.get('https://api.vk.com/method/wall.get',\n",
    "                       params={\n",
    "                           'access_token': token,\n",
    "                           'v': version,\n",
    "                           'domain':domain\n",
    "                       }\n",
    "                       )\n",
    "\n",
    "data = response.json()"
   ]
  }
 ],
 "metadata": {
  "kernelspec": {
   "display_name": "Python 3",
   "language": "python",
   "name": "python3"
  },
  "language_info": {
   "codemirror_mode": {
    "name": "ipython",
    "version": 3
   },
   "file_extension": ".py",
   "mimetype": "text/x-python",
   "name": "python",
   "nbconvert_exporter": "python",
   "pygments_lexer": "ipython3",
   "version": "3.7.3"
  }
 },
 "nbformat": 4,
 "nbformat_minor": 2
}
