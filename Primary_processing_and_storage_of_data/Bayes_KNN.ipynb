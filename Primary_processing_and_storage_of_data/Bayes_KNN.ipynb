{
 "cells": [
  {
   "cell_type": "markdown",
   "metadata": {},
   "source": [
    "# Bayes"
   ]
  },
  {
   "cell_type": "code",
   "execution_count": 1,
   "metadata": {},
   "outputs": [],
   "source": [
    "import numpy as np\n",
    "import pandas as pd"
   ]
  },
  {
   "cell_type": "code",
   "execution_count": 2,
   "metadata": {},
   "outputs": [
    {
     "data": {
      "text/html": [
       "<div>\n",
       "<style scoped>\n",
       "    .dataframe tbody tr th:only-of-type {\n",
       "        vertical-align: middle;\n",
       "    }\n",
       "\n",
       "    .dataframe tbody tr th {\n",
       "        vertical-align: top;\n",
       "    }\n",
       "\n",
       "    .dataframe thead th {\n",
       "        text-align: right;\n",
       "    }\n",
       "</style>\n",
       "<table border=\"1\" class=\"dataframe\">\n",
       "  <thead>\n",
       "    <tr style=\"text-align: right;\">\n",
       "      <th></th>\n",
       "      <th>SPAM</th>\n",
       "      <th>HAM</th>\n",
       "    </tr>\n",
       "  </thead>\n",
       "  <tbody>\n",
       "    <tr>\n",
       "      <th>Emails</th>\n",
       "      <td>14</td>\n",
       "      <td>12</td>\n",
       "    </tr>\n",
       "    <tr>\n",
       "      <th>Words</th>\n",
       "      <td>70</td>\n",
       "      <td>46</td>\n",
       "    </tr>\n",
       "    <tr>\n",
       "      <th>Bill</th>\n",
       "      <td>1</td>\n",
       "      <td>1</td>\n",
       "    </tr>\n",
       "    <tr>\n",
       "      <th>Million</th>\n",
       "      <td>2</td>\n",
       "      <td>1</td>\n",
       "    </tr>\n",
       "    <tr>\n",
       "      <th>Gift</th>\n",
       "      <td>1</td>\n",
       "      <td>4</td>\n",
       "    </tr>\n",
       "    <tr>\n",
       "      <th>Money</th>\n",
       "      <td>0</td>\n",
       "      <td>1</td>\n",
       "    </tr>\n",
       "    <tr>\n",
       "      <th>Access</th>\n",
       "      <td>5</td>\n",
       "      <td>4</td>\n",
       "    </tr>\n",
       "    <tr>\n",
       "      <th>Free</th>\n",
       "      <td>8</td>\n",
       "      <td>12</td>\n",
       "    </tr>\n",
       "    <tr>\n",
       "      <th>Purchase</th>\n",
       "      <td>14</td>\n",
       "      <td>22</td>\n",
       "    </tr>\n",
       "    <tr>\n",
       "      <th>Cash</th>\n",
       "      <td>31</td>\n",
       "      <td>1</td>\n",
       "    </tr>\n",
       "    <tr>\n",
       "      <th>Coupon</th>\n",
       "      <td>7</td>\n",
       "      <td>0</td>\n",
       "    </tr>\n",
       "    <tr>\n",
       "      <th>Online</th>\n",
       "      <td>1</td>\n",
       "      <td>0</td>\n",
       "    </tr>\n",
       "  </tbody>\n",
       "</table>\n",
       "</div>"
      ],
      "text/plain": [
       "          SPAM  HAM\n",
       "Emails      14   12\n",
       "Words       70   46\n",
       "Bill         1    1\n",
       "Million      2    1\n",
       "Gift         1    4\n",
       "Money        0    1\n",
       "Access       5    4\n",
       "Free         8   12\n",
       "Purchase    14   22\n",
       "Cash        31    1\n",
       "Coupon       7    0\n",
       "Online       1    0"
      ]
     },
     "execution_count": 2,
     "metadata": {},
     "output_type": "execute_result"
    }
   ],
   "source": [
    "df = pd.read_csv('spam_df.csv')\n",
    "df"
   ]
  },
  {
   "cell_type": "code",
   "execution_count": 3,
   "metadata": {},
   "outputs": [],
   "source": [
    "sentence = 'Gift Purchase Offer Access Money Million Investment'\n",
    "sntnc = sentence"
   ]
  },
  {
   "cell_type": "code",
   "execution_count": 4,
   "metadata": {},
   "outputs": [],
   "source": [
    "words = np.array(sntnc.split())"
   ]
  },
  {
   "cell_type": "code",
   "execution_count": 39,
   "metadata": {},
   "outputs": [
    {
     "data": {
      "text/plain": [
       "-25.00165651156507"
      ]
     },
     "execution_count": 39,
     "metadata": {},
     "output_type": "execute_result"
    }
   ],
   "source": [
    "W = dict()\n",
    "\n",
    "for word in words:\n",
    "    if word in df.index:\n",
    "        W[word] = df.loc[word,'SPAM'] + 1\n",
    "    else:\n",
    "        W[word] = 1\n",
    "        \n",
    "P_spam = df.loc['Emails', 'SPAM'] / (df.loc['Emails', 'SPAM'] + df.loc['Emails', 'HAM'])\n",
    "W_spam = df.shape[0] - 2 + df.loc['Words', 'SPAM']\n",
    "\n",
    "ln_P_spam = np.log(P_spam)\n",
    "ln_P_W_spam = (lambda lst,x: np.log(lst / x))(list(W.values()), W_spam)\n",
    "\n",
    "y_8_spam = sum(ln_P_W_spam, ln_P_spam)\n",
    "y_8_spam"
   ]
  },
  {
   "cell_type": "code",
   "execution_count": 40,
   "metadata": {},
   "outputs": [
    {
     "data": {
      "text/plain": [
       "-21.209987321462286"
      ]
     },
     "execution_count": 40,
     "metadata": {},
     "output_type": "execute_result"
    }
   ],
   "source": [
    "W = dict()\n",
    "\n",
    "for word in words:\n",
    "    if word in df.index:\n",
    "        W[word] = df.loc[word,'HAM'] + 1\n",
    "    else:\n",
    "        W[word] = 1\n",
    "        \n",
    "P_ham = df.loc['Emails', 'HAM'] / (df.loc['Emails', 'SPAM'] + df.loc['Emails', 'HAM'])\n",
    "W_ham = df.shape[0] - 2 + df.loc['Words', 'HAM']\n",
    "\n",
    "ln_P_ham = np.log(P_ham)\n",
    "ln_P_W_ham = (lambda lst,x: np.log(lst / x))(list(W.values()), W_ham)\n",
    "\n",
    "y_8_ham = sum(ln_P_W_ham, ln_P_ham)\n",
    "y_8_ham"
   ]
  },
  {
   "cell_type": "code",
   "execution_count": 44,
   "metadata": {},
   "outputs": [
    {
     "data": {
      "text/plain": [
       "0.022060282926234485"
      ]
     },
     "execution_count": 44,
     "metadata": {},
     "output_type": "execute_result"
    }
   ],
   "source": [
    "P = 1 / (1 + np.exp(y_8_ham - y_8_spam))\n",
    "P"
   ]
  },
  {
   "cell_type": "code",
   "execution_count": 42,
   "metadata": {},
   "outputs": [
    {
     "data": {
      "text/plain": [
       "0.5384615384615384"
      ]
     },
     "execution_count": 42,
     "metadata": {},
     "output_type": "execute_result"
    }
   ],
   "source": [
    "P_spam"
   ]
  },
  {
   "cell_type": "markdown",
   "metadata": {},
   "source": [
    "# KNN"
   ]
  },
  {
   "cell_type": "code",
   "execution_count": 53,
   "metadata": {},
   "outputs": [],
   "source": [
    "import numpy as np\n",
    "import pandas as pd\n",
    "\n",
    "df = pd.read_csv('KNN.csv')"
   ]
  },
  {
   "cell_type": "code",
   "execution_count": 54,
   "metadata": {},
   "outputs": [
    {
     "name": "stdout",
     "output_type": "stream",
     "text": [
      "Евклид:\n",
      "Расстояние до ближайшего соседа = 14.035668847618199\n",
      "ID первых k-соседей: [8, 10, 3]\n",
      "Новый класс =  1\n",
      "\n",
      "Манхэттен:\n",
      "Расстояние до ближайшего соседа = 15\n",
      "ID первых k-соседей: [8, 10, 9]\n",
      "Новый класс =  -1\n"
     ]
    }
   ],
   "source": [
    "k = 3\n",
    "X = 67\n",
    "Y = 95\n",
    "\n",
    "df['Euclid'] = ((df.X - X)**2 + (df.Y - Y)**2)**0.5\n",
    "df['Manhattan'] = abs(df.X - X) + abs(df.Y - Y)\n",
    "\n",
    "df.loc[df.Class == 0, 'Class'] = -1\n",
    "\n",
    "df = df.sort_values('Euclid').reset_index()\n",
    "\n",
    "print('Евклид:\\nРасстояние до ближайшего соседа =', df.Euclid[0])\n",
    "print('ID первых k-соседей:', list(df[0:3].id))\n",
    "print('Новый класс = ', sum(df.Class[0:k]))\n",
    "\n",
    "df = df.sort_values('Manhattan')\n",
    "\n",
    "print('\\nМанхэттен:\\nРасстояние до ближайшего соседа =', df.Manhattan[0])\n",
    "print('ID первых k-соседей:', list(df[0:3].id))\n",
    "print('Новый класс = ', sum(df.Class[0:k]))"
   ]
  },
  {
   "cell_type": "code",
   "execution_count": 55,
   "metadata": {},
   "outputs": [
    {
     "data": {
      "text/html": [
       "<div>\n",
       "<style scoped>\n",
       "    .dataframe tbody tr th:only-of-type {\n",
       "        vertical-align: middle;\n",
       "    }\n",
       "\n",
       "    .dataframe tbody tr th {\n",
       "        vertical-align: top;\n",
       "    }\n",
       "\n",
       "    .dataframe thead th {\n",
       "        text-align: right;\n",
       "    }\n",
       "</style>\n",
       "<table border=\"1\" class=\"dataframe\">\n",
       "  <thead>\n",
       "    <tr style=\"text-align: right;\">\n",
       "      <th></th>\n",
       "      <th>index</th>\n",
       "      <th>id</th>\n",
       "      <th>X</th>\n",
       "      <th>Y</th>\n",
       "      <th>Class</th>\n",
       "      <th>Euclid</th>\n",
       "      <th>Manhattan</th>\n",
       "    </tr>\n",
       "  </thead>\n",
       "  <tbody>\n",
       "    <tr>\n",
       "      <th>0</th>\n",
       "      <td>7</td>\n",
       "      <td>8</td>\n",
       "      <td>81</td>\n",
       "      <td>96</td>\n",
       "      <td>1</td>\n",
       "      <td>14.035669</td>\n",
       "      <td>15</td>\n",
       "    </tr>\n",
       "    <tr>\n",
       "      <th>1</th>\n",
       "      <td>9</td>\n",
       "      <td>10</td>\n",
       "      <td>82</td>\n",
       "      <td>70</td>\n",
       "      <td>-1</td>\n",
       "      <td>29.154759</td>\n",
       "      <td>40</td>\n",
       "    </tr>\n",
       "    <tr>\n",
       "      <th>3</th>\n",
       "      <td>8</td>\n",
       "      <td>9</td>\n",
       "      <td>32</td>\n",
       "      <td>90</td>\n",
       "      <td>-1</td>\n",
       "      <td>35.355339</td>\n",
       "      <td>40</td>\n",
       "    </tr>\n",
       "    <tr>\n",
       "      <th>2</th>\n",
       "      <td>2</td>\n",
       "      <td>3</td>\n",
       "      <td>46</td>\n",
       "      <td>69</td>\n",
       "      <td>1</td>\n",
       "      <td>33.421550</td>\n",
       "      <td>47</td>\n",
       "    </tr>\n",
       "    <tr>\n",
       "      <th>4</th>\n",
       "      <td>3</td>\n",
       "      <td>4</td>\n",
       "      <td>33</td>\n",
       "      <td>67</td>\n",
       "      <td>-1</td>\n",
       "      <td>44.045431</td>\n",
       "      <td>62</td>\n",
       "    </tr>\n",
       "    <tr>\n",
       "      <th>6</th>\n",
       "      <td>1</td>\n",
       "      <td>2</td>\n",
       "      <td>47</td>\n",
       "      <td>50</td>\n",
       "      <td>-1</td>\n",
       "      <td>49.244289</td>\n",
       "      <td>65</td>\n",
       "    </tr>\n",
       "    <tr>\n",
       "      <th>5</th>\n",
       "      <td>0</td>\n",
       "      <td>1</td>\n",
       "      <td>42</td>\n",
       "      <td>53</td>\n",
       "      <td>-1</td>\n",
       "      <td>48.877398</td>\n",
       "      <td>67</td>\n",
       "    </tr>\n",
       "    <tr>\n",
       "      <th>7</th>\n",
       "      <td>6</td>\n",
       "      <td>7</td>\n",
       "      <td>76</td>\n",
       "      <td>37</td>\n",
       "      <td>-1</td>\n",
       "      <td>58.694122</td>\n",
       "      <td>67</td>\n",
       "    </tr>\n",
       "    <tr>\n",
       "      <th>8</th>\n",
       "      <td>5</td>\n",
       "      <td>6</td>\n",
       "      <td>40</td>\n",
       "      <td>22</td>\n",
       "      <td>-1</td>\n",
       "      <td>77.833155</td>\n",
       "      <td>100</td>\n",
       "    </tr>\n",
       "    <tr>\n",
       "      <th>9</th>\n",
       "      <td>4</td>\n",
       "      <td>5</td>\n",
       "      <td>10</td>\n",
       "      <td>37</td>\n",
       "      <td>-1</td>\n",
       "      <td>81.320354</td>\n",
       "      <td>115</td>\n",
       "    </tr>\n",
       "  </tbody>\n",
       "</table>\n",
       "</div>"
      ],
      "text/plain": [
       "   index  id   X   Y  Class     Euclid  Manhattan\n",
       "0      7   8  81  96      1  14.035669         15\n",
       "1      9  10  82  70     -1  29.154759         40\n",
       "3      8   9  32  90     -1  35.355339         40\n",
       "2      2   3  46  69      1  33.421550         47\n",
       "4      3   4  33  67     -1  44.045431         62\n",
       "6      1   2  47  50     -1  49.244289         65\n",
       "5      0   1  42  53     -1  48.877398         67\n",
       "7      6   7  76  37     -1  58.694122         67\n",
       "8      5   6  40  22     -1  77.833155        100\n",
       "9      4   5  10  37     -1  81.320354        115"
      ]
     },
     "execution_count": 55,
     "metadata": {},
     "output_type": "execute_result"
    }
   ],
   "source": [
    "df"
   ]
  },
  {
   "cell_type": "code",
   "execution_count": null,
   "metadata": {},
   "outputs": [],
   "source": []
  }
 ],
 "metadata": {
  "kernelspec": {
   "display_name": "Python 3",
   "language": "python",
   "name": "python3"
  },
  "language_info": {
   "codemirror_mode": {
    "name": "ipython",
    "version": 3
   },
   "file_extension": ".py",
   "mimetype": "text/x-python",
   "name": "python",
   "nbconvert_exporter": "python",
   "pygments_lexer": "ipython3",
   "version": "3.7.3"
  }
 },
 "nbformat": 4,
 "nbformat_minor": 2
}
