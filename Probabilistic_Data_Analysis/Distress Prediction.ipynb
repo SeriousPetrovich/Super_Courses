{
 "cells": [
  {
   "cell_type": "markdown",
   "metadata": {},
   "source": [
    "# Постановка задачи\n",
    "\n",
    "Дан массив данных, где хранятся 83 признаков разных компаний. Задача - прогнозирование банкротства компании. Будут использованы следующие методы:\n",
    "* **Случайный лес**\n",
    "\n",
    "\n",
    "* **Логистическая регрессия**\n",
    "\n",
    "\n",
    "* **XGBoost**\n",
    "\n",
    "## Описание данных\n",
    "\n",
    "* **Первый столбец** `Company` - номера компаний.\n",
    "\n",
    "\n",
    "* **Второй столбец**: `time` - различные периоды времени, к которым принадлежат данные. Длина временного ряда варьируется от `1 до 14` для **каждой** компании.\n",
    "\n",
    "\n",
    "* **Третья колонка**: целевая переменная обозначается как `Financial Distress`, если она больше `-0.50`, то компания должна считаться `блаполучной (0)`. В противном случае компания будет рассматриваться как финансово `неблагополучный (1)`.\n",
    "\n",
    "\n",
    "* **С четвертго по последний столбец**: признаки, обозначенные от `x1 до x83` , представляют собой некоторые финансовые характеристики компаний. Эти признаки полученные из прошлого, которые должны использоваться для прогнозирования банкротства. Признак `x80` является категориальной переменной."
   ]
  },
  {
   "cell_type": "markdown",
   "metadata": {
    "_uuid": "8eea9f5dfefaf2a94983106a0939623ef1d15096"
   },
   "source": [
    "# Обзор данных\n"
   ]
  },
  {
   "cell_type": "code",
   "execution_count": 14,
   "metadata": {
    "_cell_guid": "b1076dfc-b9ad-4769-8c92-a6c4dae69d19",
    "_uuid": "8f2839f25d086af736a60e9eeb907d3b93b6e0e5"
   },
   "outputs": [],
   "source": [
    "import numpy as np\n",
    "import pandas as pd\n",
    "import seaborn as sns\n",
    "import matplotlib.pyplot as plt\n",
    "%matplotlib inline"
   ]
  },
  {
   "cell_type": "code",
   "execution_count": 15,
   "metadata": {
    "_cell_guid": "79c7e3d0-c299-4dcb-8224-4455121ee9b0",
    "_uuid": "d629ff2d2480ee46fbb7e2d37f6b5fab8052498a"
   },
   "outputs": [],
   "source": [
    "data = pd.read_csv('Financial Distress.csv')"
   ]
  },
  {
   "cell_type": "markdown",
   "metadata": {},
   "source": [
    "### Проверка на наличие пропусков:"
   ]
  },
  {
   "cell_type": "code",
   "execution_count": 16,
   "metadata": {
    "_uuid": "d9bb163f3dc7cdf6446fc1acb9d7d78f1afca3bd"
   },
   "outputs": [
    {
     "name": "stdout",
     "output_type": "stream",
     "text": [
      "<class 'pandas.core.frame.DataFrame'>\n",
      "RangeIndex: 3672 entries, 0 to 3671\n",
      "Data columns (total 86 columns):\n",
      "Company               3672 non-null int64\n",
      "Time                  3672 non-null int64\n",
      "Financial Distress    3672 non-null float64\n",
      "x1                    3672 non-null float64\n",
      "x2                    3672 non-null float64\n",
      "x3                    3672 non-null float64\n",
      "x4                    3672 non-null float64\n",
      "x5                    3672 non-null float64\n",
      "x6                    3672 non-null float64\n",
      "x7                    3672 non-null float64\n",
      "x8                    3672 non-null float64\n",
      "x9                    3672 non-null float64\n",
      "x10                   3672 non-null float64\n",
      "x11                   3672 non-null float64\n",
      "x12                   3672 non-null float64\n",
      "x13                   3672 non-null float64\n",
      "x14                   3672 non-null float64\n",
      "x15                   3672 non-null float64\n",
      "x16                   3672 non-null float64\n",
      "x17                   3672 non-null float64\n",
      "x18                   3672 non-null float64\n",
      "x19                   3672 non-null float64\n",
      "x20                   3672 non-null float64\n",
      "x21                   3672 non-null float64\n",
      "x22                   3672 non-null float64\n",
      "x23                   3672 non-null float64\n",
      "x24                   3672 non-null float64\n",
      "x25                   3672 non-null float64\n",
      "x26                   3672 non-null float64\n",
      "x27                   3672 non-null float64\n",
      "x28                   3672 non-null float64\n",
      "x29                   3672 non-null float64\n",
      "x30                   3672 non-null float64\n",
      "x31                   3672 non-null float64\n",
      "x32                   3672 non-null float64\n",
      "x33                   3672 non-null float64\n",
      "x34                   3672 non-null float64\n",
      "x35                   3672 non-null float64\n",
      "x36                   3672 non-null float64\n",
      "x37                   3672 non-null float64\n",
      "x38                   3672 non-null float64\n",
      "x39                   3672 non-null float64\n",
      "x40                   3672 non-null float64\n",
      "x41                   3672 non-null float64\n",
      "x42                   3672 non-null float64\n",
      "x43                   3672 non-null float64\n",
      "x44                   3672 non-null float64\n",
      "x45                   3672 non-null float64\n",
      "x46                   3672 non-null float64\n",
      "x47                   3672 non-null float64\n",
      "x48                   3672 non-null float64\n",
      "x49                   3672 non-null float64\n",
      "x50                   3672 non-null float64\n",
      "x51                   3672 non-null float64\n",
      "x52                   3672 non-null float64\n",
      "x53                   3672 non-null float64\n",
      "x54                   3672 non-null float64\n",
      "x55                   3672 non-null float64\n",
      "x56                   3672 non-null float64\n",
      "x57                   3672 non-null float64\n",
      "x58                   3672 non-null float64\n",
      "x59                   3672 non-null float64\n",
      "x60                   3672 non-null float64\n",
      "x61                   3672 non-null float64\n",
      "x62                   3672 non-null float64\n",
      "x63                   3672 non-null float64\n",
      "x64                   3672 non-null float64\n",
      "x65                   3672 non-null float64\n",
      "x66                   3672 non-null float64\n",
      "x67                   3672 non-null float64\n",
      "x68                   3672 non-null float64\n",
      "x69                   3672 non-null float64\n",
      "x70                   3672 non-null float64\n",
      "x71                   3672 non-null float64\n",
      "x72                   3672 non-null float64\n",
      "x73                   3672 non-null float64\n",
      "x74                   3672 non-null float64\n",
      "x75                   3672 non-null float64\n",
      "x76                   3672 non-null float64\n",
      "x77                   3672 non-null float64\n",
      "x78                   3672 non-null float64\n",
      "x79                   3672 non-null float64\n",
      "x80                   3672 non-null int64\n",
      "x81                   3672 non-null float64\n",
      "x82                   3672 non-null int64\n",
      "x83                   3672 non-null int64\n",
      "dtypes: float64(81), int64(5)\n",
      "memory usage: 2.4 MB\n"
     ]
    }
   ],
   "source": [
    "data.info()"
   ]
  },
  {
   "cell_type": "markdown",
   "metadata": {
    "_uuid": "402453895785a5bb48c60bde3593304b9ef77bb8"
   },
   "source": [
    "## Один из признаков является категориальным\n",
    "Посмотрим на него подбробнее"
   ]
  },
  {
   "cell_type": "code",
   "execution_count": 20,
   "metadata": {
    "_uuid": "161fec4a1a256fab21fa51150c99ce643104ee13"
   },
   "outputs": [
    {
     "name": "stdout",
     "output_type": "stream",
     "text": [
      "[22 29 25 12 23  9 28 14 11 18 26 21  3 20 15  7 24 19 27  1  4 17  6  8\n",
      "  5  2 16 13 10 30 31 32 34 35 36 33 37]\n",
      "37\n"
     ]
    }
   ],
   "source": [
    "categories = data['x80'].unique()\n",
    "print(categories)\n",
    "print(len(categories))"
   ]
  },
  {
   "cell_type": "markdown",
   "metadata": {},
   "source": [
    "Есть всего 37 уникальных значений признака 'x80'."
   ]
  },
  {
   "cell_type": "markdown",
   "metadata": {
    "_uuid": "0ec6b3de4866c464e39df18141ecedc8672c2293"
   },
   "source": [
    "## Построим матрицу корелляции признаков"
   ]
  },
  {
   "cell_type": "code",
   "execution_count": 21,
   "metadata": {
    "_uuid": "7e58d1ebf53b0f28b1e2658800a2830252495d10",
    "scrolled": false
   },
   "outputs": [
    {
     "data": {
      "text/html": [
       "<div>\n",
       "<style scoped>\n",
       "    .dataframe tbody tr th:only-of-type {\n",
       "        vertical-align: middle;\n",
       "    }\n",
       "\n",
       "    .dataframe tbody tr th {\n",
       "        vertical-align: top;\n",
       "    }\n",
       "\n",
       "    .dataframe thead th {\n",
       "        text-align: right;\n",
       "    }\n",
       "</style>\n",
       "<table border=\"1\" class=\"dataframe\">\n",
       "  <thead>\n",
       "    <tr style=\"text-align: right;\">\n",
       "      <th></th>\n",
       "      <th>Financial Distress</th>\n",
       "      <th>x81</th>\n",
       "      <th>x48</th>\n",
       "      <th>x25</th>\n",
       "      <th>x10</th>\n",
       "      <th>x5</th>\n",
       "      <th>x2</th>\n",
       "      <th>x53</th>\n",
       "      <th>x9</th>\n",
       "      <th>x51</th>\n",
       "      <th>...</th>\n",
       "      <th>x14</th>\n",
       "      <th>x3</th>\n",
       "      <th>x71</th>\n",
       "      <th>x79</th>\n",
       "      <th>x73</th>\n",
       "      <th>x62</th>\n",
       "      <th>x63</th>\n",
       "      <th>x50</th>\n",
       "      <th>x61</th>\n",
       "      <th>x64</th>\n",
       "    </tr>\n",
       "  </thead>\n",
       "  <tbody>\n",
       "    <tr>\n",
       "      <th>Time</th>\n",
       "      <td>0.144200</td>\n",
       "      <td>0.170792</td>\n",
       "      <td>0.125236</td>\n",
       "      <td>0.047027</td>\n",
       "      <td>0.337162</td>\n",
       "      <td>-0.005669</td>\n",
       "      <td>-0.001065</td>\n",
       "      <td>-0.004674</td>\n",
       "      <td>-0.192999</td>\n",
       "      <td>0.405762</td>\n",
       "      <td>...</td>\n",
       "      <td>-0.130468</td>\n",
       "      <td>-0.259707</td>\n",
       "      <td>-0.412424</td>\n",
       "      <td>-0.196859</td>\n",
       "      <td>-0.648888</td>\n",
       "      <td>-0.748330</td>\n",
       "      <td>-0.191402</td>\n",
       "      <td>-0.017868</td>\n",
       "      <td>-0.659081</td>\n",
       "      <td>-0.884338</td>\n",
       "    </tr>\n",
       "    <tr>\n",
       "      <th>Financial Distress</th>\n",
       "      <td>1.000000</td>\n",
       "      <td>0.442916</td>\n",
       "      <td>0.435318</td>\n",
       "      <td>0.376786</td>\n",
       "      <td>0.338298</td>\n",
       "      <td>0.274435</td>\n",
       "      <td>0.272978</td>\n",
       "      <td>0.245600</td>\n",
       "      <td>0.219091</td>\n",
       "      <td>0.191357</td>\n",
       "      <td>...</td>\n",
       "      <td>-0.078073</td>\n",
       "      <td>-0.089264</td>\n",
       "      <td>-0.089890</td>\n",
       "      <td>-0.116661</td>\n",
       "      <td>-0.134600</td>\n",
       "      <td>-0.143793</td>\n",
       "      <td>-0.150362</td>\n",
       "      <td>-0.155569</td>\n",
       "      <td>-0.157380</td>\n",
       "      <td>-0.173126</td>\n",
       "    </tr>\n",
       "    <tr>\n",
       "      <th>x1</th>\n",
       "      <td>0.030928</td>\n",
       "      <td>0.053595</td>\n",
       "      <td>0.039251</td>\n",
       "      <td>0.043398</td>\n",
       "      <td>0.296670</td>\n",
       "      <td>0.109543</td>\n",
       "      <td>0.208851</td>\n",
       "      <td>0.101277</td>\n",
       "      <td>-0.000506</td>\n",
       "      <td>-0.067987</td>\n",
       "      <td>...</td>\n",
       "      <td>-0.223763</td>\n",
       "      <td>-0.440321</td>\n",
       "      <td>-0.020399</td>\n",
       "      <td>-0.045919</td>\n",
       "      <td>-0.040829</td>\n",
       "      <td>-0.078965</td>\n",
       "      <td>-0.014623</td>\n",
       "      <td>-0.163607</td>\n",
       "      <td>-0.067027</td>\n",
       "      <td>-0.107117</td>\n",
       "    </tr>\n",
       "    <tr>\n",
       "      <th>x2</th>\n",
       "      <td>0.272978</td>\n",
       "      <td>0.281884</td>\n",
       "      <td>0.249237</td>\n",
       "      <td>0.483282</td>\n",
       "      <td>0.735503</td>\n",
       "      <td>0.892480</td>\n",
       "      <td>1.000000</td>\n",
       "      <td>0.798938</td>\n",
       "      <td>0.729858</td>\n",
       "      <td>0.197861</td>\n",
       "      <td>...</td>\n",
       "      <td>-0.397435</td>\n",
       "      <td>-0.504509</td>\n",
       "      <td>0.032094</td>\n",
       "      <td>-0.104102</td>\n",
       "      <td>0.052388</td>\n",
       "      <td>-0.001604</td>\n",
       "      <td>-0.069930</td>\n",
       "      <td>-0.638515</td>\n",
       "      <td>-0.023174</td>\n",
       "      <td>-0.026297</td>\n",
       "    </tr>\n",
       "    <tr>\n",
       "      <th>x3</th>\n",
       "      <td>-0.089264</td>\n",
       "      <td>-0.111055</td>\n",
       "      <td>-0.092989</td>\n",
       "      <td>-0.083522</td>\n",
       "      <td>-0.661908</td>\n",
       "      <td>-0.356252</td>\n",
       "      <td>-0.504509</td>\n",
       "      <td>-0.296368</td>\n",
       "      <td>-0.030976</td>\n",
       "      <td>0.019216</td>\n",
       "      <td>...</td>\n",
       "      <td>0.759448</td>\n",
       "      <td>1.000000</td>\n",
       "      <td>0.111871</td>\n",
       "      <td>0.102163</td>\n",
       "      <td>0.184080</td>\n",
       "      <td>0.183966</td>\n",
       "      <td>0.075016</td>\n",
       "      <td>0.415127</td>\n",
       "      <td>0.163390</td>\n",
       "      <td>0.222393</td>\n",
       "    </tr>\n",
       "    <tr>\n",
       "      <th>x4</th>\n",
       "      <td>0.116837</td>\n",
       "      <td>0.203058</td>\n",
       "      <td>0.201250</td>\n",
       "      <td>0.225023</td>\n",
       "      <td>0.064635</td>\n",
       "      <td>0.194218</td>\n",
       "      <td>0.114046</td>\n",
       "      <td>0.315602</td>\n",
       "      <td>0.135739</td>\n",
       "      <td>0.320267</td>\n",
       "      <td>...</td>\n",
       "      <td>0.035727</td>\n",
       "      <td>0.094481</td>\n",
       "      <td>0.000471</td>\n",
       "      <td>-0.044051</td>\n",
       "      <td>-0.003886</td>\n",
       "      <td>-0.047514</td>\n",
       "      <td>-0.029564</td>\n",
       "      <td>0.305579</td>\n",
       "      <td>-0.047630</td>\n",
       "      <td>-0.059740</td>\n",
       "    </tr>\n",
       "    <tr>\n",
       "      <th>x5</th>\n",
       "      <td>0.274435</td>\n",
       "      <td>0.266739</td>\n",
       "      <td>0.237494</td>\n",
       "      <td>0.461038</td>\n",
       "      <td>0.645829</td>\n",
       "      <td>1.000000</td>\n",
       "      <td>0.892480</td>\n",
       "      <td>0.906145</td>\n",
       "      <td>0.687468</td>\n",
       "      <td>0.236526</td>\n",
       "      <td>...</td>\n",
       "      <td>-0.297055</td>\n",
       "      <td>-0.356252</td>\n",
       "      <td>0.019983</td>\n",
       "      <td>-0.120217</td>\n",
       "      <td>0.035566</td>\n",
       "      <td>-0.008896</td>\n",
       "      <td>-0.094203</td>\n",
       "      <td>-0.624459</td>\n",
       "      <td>-0.036667</td>\n",
       "      <td>-0.025415</td>\n",
       "    </tr>\n",
       "    <tr>\n",
       "      <th>x6</th>\n",
       "      <td>0.077260</td>\n",
       "      <td>0.101647</td>\n",
       "      <td>0.083978</td>\n",
       "      <td>0.076557</td>\n",
       "      <td>0.441091</td>\n",
       "      <td>0.236113</td>\n",
       "      <td>0.298078</td>\n",
       "      <td>0.255941</td>\n",
       "      <td>0.005126</td>\n",
       "      <td>-0.096300</td>\n",
       "      <td>...</td>\n",
       "      <td>-0.435001</td>\n",
       "      <td>-0.593620</td>\n",
       "      <td>-0.051343</td>\n",
       "      <td>-0.084758</td>\n",
       "      <td>-0.075941</td>\n",
       "      <td>-0.113815</td>\n",
       "      <td>-0.045330</td>\n",
       "      <td>-0.188840</td>\n",
       "      <td>-0.101086</td>\n",
       "      <td>-0.136648</td>\n",
       "    </tr>\n",
       "    <tr>\n",
       "      <th>x7</th>\n",
       "      <td>0.042412</td>\n",
       "      <td>0.064812</td>\n",
       "      <td>0.050854</td>\n",
       "      <td>0.061415</td>\n",
       "      <td>0.290069</td>\n",
       "      <td>0.110410</td>\n",
       "      <td>0.214098</td>\n",
       "      <td>0.092646</td>\n",
       "      <td>0.019448</td>\n",
       "      <td>-0.037694</td>\n",
       "      <td>...</td>\n",
       "      <td>-0.191658</td>\n",
       "      <td>-0.398730</td>\n",
       "      <td>-0.036066</td>\n",
       "      <td>-0.017951</td>\n",
       "      <td>-0.057026</td>\n",
       "      <td>-0.085511</td>\n",
       "      <td>-0.002137</td>\n",
       "      <td>-0.172219</td>\n",
       "      <td>-0.067887</td>\n",
       "      <td>-0.111500</td>\n",
       "    </tr>\n",
       "    <tr>\n",
       "      <th>x8</th>\n",
       "      <td>-0.006382</td>\n",
       "      <td>-0.000214</td>\n",
       "      <td>-0.001069</td>\n",
       "      <td>0.001520</td>\n",
       "      <td>0.007163</td>\n",
       "      <td>-0.011965</td>\n",
       "      <td>0.014020</td>\n",
       "      <td>-0.014444</td>\n",
       "      <td>0.028458</td>\n",
       "      <td>-0.066608</td>\n",
       "      <td>...</td>\n",
       "      <td>-0.006725</td>\n",
       "      <td>-0.006290</td>\n",
       "      <td>-0.007050</td>\n",
       "      <td>0.036357</td>\n",
       "      <td>-0.000466</td>\n",
       "      <td>0.002513</td>\n",
       "      <td>0.015077</td>\n",
       "      <td>0.014445</td>\n",
       "      <td>0.009484</td>\n",
       "      <td>0.009862</td>\n",
       "    </tr>\n",
       "  </tbody>\n",
       "</table>\n",
       "<p>10 rows × 85 columns</p>\n",
       "</div>"
      ],
      "text/plain": [
       "                    Financial Distress       x81       x48       x25  \\\n",
       "Time                          0.144200  0.170792  0.125236  0.047027   \n",
       "Financial Distress            1.000000  0.442916  0.435318  0.376786   \n",
       "x1                            0.030928  0.053595  0.039251  0.043398   \n",
       "x2                            0.272978  0.281884  0.249237  0.483282   \n",
       "x3                           -0.089264 -0.111055 -0.092989 -0.083522   \n",
       "x4                            0.116837  0.203058  0.201250  0.225023   \n",
       "x5                            0.274435  0.266739  0.237494  0.461038   \n",
       "x6                            0.077260  0.101647  0.083978  0.076557   \n",
       "x7                            0.042412  0.064812  0.050854  0.061415   \n",
       "x8                           -0.006382 -0.000214 -0.001069  0.001520   \n",
       "\n",
       "                         x10        x5        x2       x53        x9  \\\n",
       "Time                0.337162 -0.005669 -0.001065 -0.004674 -0.192999   \n",
       "Financial Distress  0.338298  0.274435  0.272978  0.245600  0.219091   \n",
       "x1                  0.296670  0.109543  0.208851  0.101277 -0.000506   \n",
       "x2                  0.735503  0.892480  1.000000  0.798938  0.729858   \n",
       "x3                 -0.661908 -0.356252 -0.504509 -0.296368 -0.030976   \n",
       "x4                  0.064635  0.194218  0.114046  0.315602  0.135739   \n",
       "x5                  0.645829  1.000000  0.892480  0.906145  0.687468   \n",
       "x6                  0.441091  0.236113  0.298078  0.255941  0.005126   \n",
       "x7                  0.290069  0.110410  0.214098  0.092646  0.019448   \n",
       "x8                  0.007163 -0.011965  0.014020 -0.014444  0.028458   \n",
       "\n",
       "                         x51  ...       x14        x3       x71       x79  \\\n",
       "Time                0.405762  ... -0.130468 -0.259707 -0.412424 -0.196859   \n",
       "Financial Distress  0.191357  ... -0.078073 -0.089264 -0.089890 -0.116661   \n",
       "x1                 -0.067987  ... -0.223763 -0.440321 -0.020399 -0.045919   \n",
       "x2                  0.197861  ... -0.397435 -0.504509  0.032094 -0.104102   \n",
       "x3                  0.019216  ...  0.759448  1.000000  0.111871  0.102163   \n",
       "x4                  0.320267  ...  0.035727  0.094481  0.000471 -0.044051   \n",
       "x5                  0.236526  ... -0.297055 -0.356252  0.019983 -0.120217   \n",
       "x6                 -0.096300  ... -0.435001 -0.593620 -0.051343 -0.084758   \n",
       "x7                 -0.037694  ... -0.191658 -0.398730 -0.036066 -0.017951   \n",
       "x8                 -0.066608  ... -0.006725 -0.006290 -0.007050  0.036357   \n",
       "\n",
       "                         x73       x62       x63       x50       x61       x64  \n",
       "Time               -0.648888 -0.748330 -0.191402 -0.017868 -0.659081 -0.884338  \n",
       "Financial Distress -0.134600 -0.143793 -0.150362 -0.155569 -0.157380 -0.173126  \n",
       "x1                 -0.040829 -0.078965 -0.014623 -0.163607 -0.067027 -0.107117  \n",
       "x2                  0.052388 -0.001604 -0.069930 -0.638515 -0.023174 -0.026297  \n",
       "x3                  0.184080  0.183966  0.075016  0.415127  0.163390  0.222393  \n",
       "x4                 -0.003886 -0.047514 -0.029564  0.305579 -0.047630 -0.059740  \n",
       "x5                  0.035566 -0.008896 -0.094203 -0.624459 -0.036667 -0.025415  \n",
       "x6                 -0.075941 -0.113815 -0.045330 -0.188840 -0.101086 -0.136648  \n",
       "x7                 -0.057026 -0.085511 -0.002137 -0.172219 -0.067887 -0.111500  \n",
       "x8                 -0.000466  0.002513  0.015077  0.014445  0.009484  0.009862  \n",
       "\n",
       "[10 rows x 85 columns]"
      ]
     },
     "execution_count": 21,
     "metadata": {},
     "output_type": "execute_result"
    }
   ],
   "source": [
    "data_corr = data.drop(labels=['Company'], axis=1).corr()\n",
    "data_corr = data_corr.sort_values(ascending=False, axis=1, by='Financial Distress')\n",
    "data_corr.head(10)"
   ]
  },
  {
   "cell_type": "markdown",
   "metadata": {
    "_uuid": "1d77c222c51d0a14e2ddf72a6131534aa514c5a3"
   },
   "source": [
    "## И отобразим ее на карте"
   ]
  },
  {
   "cell_type": "code",
   "execution_count": 22,
   "metadata": {
    "_uuid": "9ab9f9f2789950b2524f77cc7770a25e6d49b9ec",
    "scrolled": false
   },
   "outputs": [
    {
     "data": {
      "text/plain": [
       "<matplotlib.axes._subplots.AxesSubplot at 0x286337d9a20>"
      ]
     },
     "execution_count": 22,
     "metadata": {},
     "output_type": "execute_result"
    },
    {
     "data": {
      "image/png": "[encoded data removed]",
      "text/plain": [
       "<Figure size 1440x1440 with 2 Axes>"
      ]
     },
     "metadata": {
      "needs_background": "light"
     },
     "output_type": "display_data"
    }
   ],
   "source": [
    "cmap = sns.diverging_palette(220, 10, as_cmap=True)\n",
    "plt.figure(figsize = (20,20))\n",
    "sns.heatmap(data_corr, cmap=cmap)"
   ]
  },
  {
   "cell_type": "markdown",
   "metadata": {},
   "source": [
    "Видим, что наблюдается достаточно большая корреляция между признаками и Financial Distress (чем краснее, тем больше корреляция, связь)"
   ]
  },
  {
   "cell_type": "markdown",
   "metadata": {
    "_uuid": "0f97dc0ca1a4bc83bb67cad12cd09498067f40be"
   },
   "source": [
    "## Создаем вектор ответов для классификации\n",
    "Компании с уровнем Financial Distress не более -0.5 являются неблагополучными. Поставим задачу как задачу классификации."
   ]
  },
  {
   "cell_type": "code",
   "execution_count": 23,
   "metadata": {
    "_uuid": "dabf4b5a302b049d2fa68557793e02b335c5e120"
   },
   "outputs": [],
   "source": [
    "distressed = [1 if row['Financial Distress'] <= -0.5 else 0 for _, row in data.iterrows()]\n",
    "data_full = data\n",
    "data_full['Distressed'] = pd.Series(distressed)"
   ]
  },
  {
   "cell_type": "markdown",
   "metadata": {
    "_uuid": "f996f7837e751150db2186bf842a26b22c10d0e4",
    "collapsed": true
   },
   "source": [
    "## Разделим данные на обучающую и тестовую выборку.\n",
    "Обучающая выборка будет использоваться для кросс-валидации и настройки гиперпараметров."
   ]
  },
  {
   "cell_type": "code",
   "execution_count": 24,
   "metadata": {
    "_uuid": "5aa62bd8613680a02fdaa9589ef7680d62bd71f6"
   },
   "outputs": [],
   "source": [
    "from sklearn.model_selection import StratifiedShuffleSplit"
   ]
  },
  {
   "cell_type": "code",
   "execution_count": 25,
   "metadata": {
    "_uuid": "852b4ab9dbdd0b4f7d1dd12e34455369ac9cbfe9",
    "scrolled": true
   },
   "outputs": [
    {
     "name": "stdout",
     "output_type": "stream",
     "text": [
      "CV: [3386 1214 2525 ... 2416  634 2924] HO: [2474 1786 1337 ... 3543 2556 1521]\n"
     ]
    }
   ],
   "source": [
    "SSS = StratifiedShuffleSplit(random_state=10, test_size=.3, n_splits=1)\n",
    "X = data_full.iloc[:, 3:-1].drop('x80', axis=1)\n",
    "y = data_full['Distressed'] \n",
    "for train_index, test_index in SSS.split(X, y):\n",
    "    print(\"CV:\", train_index, \"HO:\", test_index)\n",
    "    X_cv, X_ho = X.iloc[train_index], X.iloc[test_index]"
   ]
  },
  {
   "cell_type": "markdown",
   "metadata": {
    "_uuid": "14d2456cda2f1a3dd2ac37771c2aace50096c5c4"
   },
   "source": [
    "## Классы очень несбалансированы"
   ]
  },
  {
   "cell_type": "markdown",
   "metadata": {},
   "source": [
    "Имеются 3536 временных записей, когда компании находились в неблагополучном состоянии и только 136 блаполочных"
   ]
  },
  {
   "cell_type": "code",
   "execution_count": 27,
   "metadata": {
    "_uuid": "bc65e1bef789f4086fbbbb62ea14041216f9a04a"
   },
   "outputs": [
    {
     "data": {
      "text/plain": [
       "0    3536\n",
       "1     136\n",
       "Name: Distressed, dtype: int64"
      ]
     },
     "execution_count": 27,
     "metadata": {},
     "output_type": "execute_result"
    }
   ],
   "source": [
    "data_full['Distressed'].value_counts()"
   ]
  },
  {
   "cell_type": "code",
   "execution_count": 28,
   "metadata": {
    "_uuid": "da09015c38c528a85180e094dc047145d4a54c13"
   },
   "outputs": [
    {
     "data": {
      "text/plain": [
       "0.038461538461538464"
      ]
     },
     "execution_count": 28,
     "metadata": {},
     "output_type": "execute_result"
    }
   ],
   "source": [
    "136/3536"
   ]
  },
  {
   "cell_type": "markdown",
   "metadata": {
    "_uuid": "879edc130b42d7f5df2ca13e4bfd11fef15d4280"
   },
   "source": [
    "## Первую серию моделей будем строить для несбалансированных классов без дополнительного feature engineering"
   ]
  },
  {
   "cell_type": "markdown",
   "metadata": {},
   "source": [
    "Пробуем провести классификацию, не проведя дополнительных манипуляций с данными (что будет рассмотрено ниже)"
   ]
  },
  {
   "cell_type": "code",
   "execution_count": 29,
   "metadata": {
    "_uuid": "f9131ad02aba9f412a7303384b6f23a11d0fa157"
   },
   "outputs": [],
   "source": [
    "from sklearn.ensemble import RandomForestClassifier\n",
    "from sklearn.linear_model import LogisticRegression\n",
    "import xgboost as xgb\n",
    "from sklearn.metrics import recall_score\n",
    "from sklearn.metrics import precision_score\n",
    "from sklearn.metrics import f1_score\n",
    "from sklearn.model_selection import RandomizedSearchCV\n",
    "from sklearn.model_selection import GridSearchCV\n",
    "from pprint import pprint"
   ]
  },
  {
   "cell_type": "markdown",
   "metadata": {
    "_uuid": "7dd57b3366738f7d05ca97ed82fefc7b72910d2e"
   },
   "source": [
    "## Случайный лес"
   ]
  },
  {
   "cell_type": "markdown",
   "metadata": {},
   "source": [
    "Набираем параметры классификатора: (минимальное число листов в деревьях, минимальное число успешных классификаций, чтобы можно было далее делить и т.д.)"
   ]
  },
  {
   "cell_type": "code",
   "execution_count": 80,
   "metadata": {
    "_uuid": "9ec5e9deb2f2235c0e96150558c9a91c61d50af8"
   },
   "outputs": [],
   "source": [
    "n_estimators = [int(x) for x in np.linspace(start = 100, stop = 1000, num = 50)]\n",
    "max_features = ['auto', 'sqrt']\n",
    "max_depth = [int(x) for x in np.linspace(5, 55, num = 10)]\n",
    "max_depth.append(None)\n",
    "min_samples_split = [2, 5, 10]\n",
    "min_samples_leaf = [1, 2, 3, 4]\n",
    "bootstrap = [True, False]\n",
    "class_weight = ['balanced', None]\n",
    "\n",
    "random_grid = {'n_estimators': n_estimators,\n",
    "               'max_features': max_features,\n",
    "               'max_depth': max_depth,\n",
    "               'min_samples_split': min_samples_split,\n",
    "               'min_samples_leaf': min_samples_leaf,\n",
    "               'bootstrap': bootstrap,\n",
    "               'class_weight': class_weight}"
   ]
  },
  {
   "cell_type": "markdown",
   "metadata": {},
   "source": [
    "Проводим рандомный перебор данных, чтобы выявить наиболее подходящие параметры"
   ]
  },
  {
   "cell_type": "code",
   "execution_count": 81,
   "metadata": {
    "_uuid": "5896c9903ac2a7cf0dec1f66f8369d4cec1f408a"
   },
   "outputs": [
    {
     "name": "stdout",
     "output_type": "stream",
     "text": [
      "Fitting 3 folds for each of 10 candidates, totalling 30 fits\n"
     ]
    },
    {
     "name": "stderr",
     "output_type": "stream",
     "text": [
      "[Parallel(n_jobs=-1)]: Using backend LokyBackend with 8 concurrent workers.\n",
      "[Parallel(n_jobs=-1)]: Done  30 out of  30 | elapsed:   18.2s finished\n"
     ]
    },
    {
     "data": {
      "text/plain": [
       "RandomizedSearchCV(cv=3, error_score=nan,\n",
       "                   estimator=RandomForestClassifier(bootstrap=True,\n",
       "                                                    ccp_alpha=0.0,\n",
       "                                                    class_weight='balanced',\n",
       "                                                    criterion='gini',\n",
       "                                                    max_depth=None,\n",
       "                                                    max_features='auto',\n",
       "                                                    max_leaf_nodes=None,\n",
       "                                                    max_samples=None,\n",
       "                                                    min_impurity_decrease=0.0,\n",
       "                                                    min_impurity_split=None,\n",
       "                                                    min_samples_leaf=1,\n",
       "                                                    min_samples_split=2,\n",
       "                                                    min_weight_fraction_leaf=0.0,\n",
       "                                                    n_estimators=100,...\n",
       "                                        'max_features': ['auto', 'sqrt'],\n",
       "                                        'min_samples_leaf': [1, 2, 3, 4],\n",
       "                                        'min_samples_split': [2, 5, 10],\n",
       "                                        'n_estimators': [100, 118, 136, 155,\n",
       "                                                         173, 191, 210, 228,\n",
       "                                                         246, 265, 283, 302,\n",
       "                                                         320, 338, 357, 375,\n",
       "                                                         393, 412, 430, 448,\n",
       "                                                         467, 485, 504, 522,\n",
       "                                                         540, 559, 577, 595,\n",
       "                                                         614, 632, ...]},\n",
       "                   pre_dispatch='2*n_jobs', random_state=10, refit='f1',\n",
       "                   return_train_score=False,\n",
       "                   scoring=['f1', 'precision', 'recall'], verbose=2)"
      ]
     },
     "execution_count": 81,
     "metadata": {},
     "output_type": "execute_result"
    }
   ],
   "source": [
    "rf_clsf = RandomForestClassifier(random_state=10, class_weight='balanced')\n",
    "rf_random = RandomizedSearchCV(estimator = rf_clsf, param_distributions = random_grid, n_iter = 10, cv = 3, verbose=2, random_state=10, n_jobs = -1, refit='f1', scoring=['f1', 'precision', 'recall'])\n",
    "rf_random.fit(X_cv, y_cv)"
   ]
  },
  {
   "cell_type": "markdown",
   "metadata": {},
   "source": [
    "### Находим точность классификации"
   ]
  },
  {
   "cell_type": "code",
   "execution_count": 82,
   "metadata": {
    "_uuid": "ff43808baa3d356680bf1e8958c64170ce834f9f"
   },
   "outputs": [
    {
     "name": "stdout",
     "output_type": "stream",
     "text": [
      "0.37831701433234\n"
     ]
    }
   ],
   "source": [
    "print(rf_random.best_score_)"
   ]
  },
  {
   "cell_type": "code",
   "execution_count": 83,
   "metadata": {
    "_uuid": "39ccf13cc1bec931c73cc47d1c3c04a367b99f14"
   },
   "outputs": [
    {
     "data": {
      "text/plain": [
       "RandomForestClassifier(bootstrap=False, ccp_alpha=0.0, class_weight='balanced',\n",
       "                       criterion='gini', max_depth=10, max_features='auto',\n",
       "                       max_leaf_nodes=None, max_samples=None,\n",
       "                       min_impurity_decrease=0.0, min_impurity_split=None,\n",
       "                       min_samples_leaf=3, min_samples_split=10,\n",
       "                       min_weight_fraction_leaf=0.0, n_estimators=412,\n",
       "                       n_jobs=None, oob_score=False, random_state=10, verbose=0,\n",
       "                       warm_start=False)"
      ]
     },
     "execution_count": 83,
     "metadata": {},
     "output_type": "execute_result"
    }
   ],
   "source": [
    "best_rf_clsf = rf_random.best_estimator_\n",
    "best_rf_clsf.fit(X_cv, y_cv)"
   ]
  },
  {
   "cell_type": "markdown",
   "metadata": {},
   "source": [
    "### Находим метрики: `Полноту`, `Точность` и `F меру`"
   ]
  },
  {
   "cell_type": "code",
   "execution_count": 84,
   "metadata": {
    "_uuid": "7cb25c3e040a803014c3eab28f7a977ecd61ca5c"
   },
   "outputs": [
    {
     "name": "stdout",
     "output_type": "stream",
     "text": [
      "0.6097560975609756 0.3424657534246575 0.43859649122807015\n"
     ]
    }
   ],
   "source": [
    "print(recall_score(y_ho, best_rf_clsf.predict(X_ho)),\n",
    "      precision_score(y_ho, best_rf_clsf.predict(X_ho)),\n",
    "      f1_score(y_ho, best_rf_clsf.predict(X_ho)))"
   ]
  },
  {
   "cell_type": "markdown",
   "metadata": {
    "_uuid": "a44f0979d12762398cc02c58addc4597b3fb868b"
   },
   "source": [
    "## Логистическая регрессия"
   ]
  },
  {
   "cell_type": "code",
   "execution_count": 74,
   "metadata": {
    "_uuid": "993721b2d6174eeb34ea8078423d6aa7cb46c623"
   },
   "outputs": [],
   "source": [
    "lr_penalty = ['l1']\n",
    "lr_class_weight = ['balanced', None]\n",
    "lr_C = [0.001, 0.01, 0.1, 1, 10]\n",
    "\n",
    "lr_solver = ['liblinear', 'saga']\n",
    "\n",
    "lr_grid = {'penalty': lr_penalty,\n",
    "           'class_weight': lr_class_weight,\n",
    "           'C': lr_C,\n",
    "           #'max_iter': lr_max_iter,\n",
    "           'solver': lr_solver}"
   ]
  },
  {
   "cell_type": "code",
   "execution_count": 75,
   "metadata": {
    "_uuid": "f972c5cdf3806b0472ddc81a457b96f734f6a8a9"
   },
   "outputs": [
    {
     "name": "stdout",
     "output_type": "stream",
     "text": [
      "Fitting 3 folds for each of 20 candidates, totalling 60 fits\n"
     ]
    },
    {
     "name": "stderr",
     "output_type": "stream",
     "text": [
      "[Parallel(n_jobs=-1)]: Using backend LokyBackend with 8 concurrent workers.\n",
      "[Parallel(n_jobs=-1)]: Done  25 tasks      | elapsed:    3.0s\n",
      "[Parallel(n_jobs=-1)]: Done  60 out of  60 | elapsed:    7.6s finished\n",
      "C:\\Users\\SerPetr\\Anaconda3\\lib\\site-packages\\sklearn\\svm\\_base.py:947: ConvergenceWarning: Liblinear failed to converge, increase the number of iterations.\n",
      "  \"the number of iterations.\", ConvergenceWarning)\n"
     ]
    },
    {
     "data": {
      "text/plain": [
       "GridSearchCV(cv=3, error_score=nan,\n",
       "             estimator=LogisticRegression(C=1.0, class_weight=None, dual=False,\n",
       "                                          fit_intercept=True,\n",
       "                                          intercept_scaling=1, l1_ratio=None,\n",
       "                                          max_iter=100, multi_class='auto',\n",
       "                                          n_jobs=None, penalty='l2',\n",
       "                                          random_state=10, solver='lbfgs',\n",
       "                                          tol=0.0001, verbose=0,\n",
       "                                          warm_start=False),\n",
       "             iid='deprecated', n_jobs=-1,\n",
       "             param_grid={'C': [0.001, 0.01, 0.1, 1, 10],\n",
       "                         'class_weight': ['balanced', None], 'penalty': ['l1'],\n",
       "                         'solver': ['liblinear', 'saga']},\n",
       "             pre_dispatch='2*n_jobs', refit='f1', return_train_score=False,\n",
       "             scoring=['f1', 'precision', 'recall'], verbose=2)"
      ]
     },
     "execution_count": 75,
     "metadata": {},
     "output_type": "execute_result"
    }
   ],
   "source": [
    "lr_clsf = LogisticRegression(random_state=10, max_iter=100)\n",
    "lr_grid = GridSearchCV(estimator = lr_clsf, param_grid = lr_grid, cv = 3, verbose=2, n_jobs = -1, refit='f1', scoring=['f1', 'precision', 'recall'])\n",
    "lr_grid.fit(X_cv, y_cv)"
   ]
  },
  {
   "cell_type": "markdown",
   "metadata": {},
   "source": [
    "### Находим точность классификации"
   ]
  },
  {
   "cell_type": "code",
   "execution_count": 77,
   "metadata": {
    "_uuid": "2d7ec9ea70d8332df32f2ffe543dcc9c278f63f6"
   },
   "outputs": [
    {
     "data": {
      "text/plain": [
       "0.3075985539679807"
      ]
     },
     "execution_count": 77,
     "metadata": {},
     "output_type": "execute_result"
    }
   ],
   "source": [
    "lr_grid.best_score_"
   ]
  },
  {
   "cell_type": "code",
   "execution_count": 78,
   "metadata": {
    "_uuid": "1d4e842f04cb4fabddf0d77ba3d870d0506bf8f0"
   },
   "outputs": [
    {
     "name": "stderr",
     "output_type": "stream",
     "text": [
      "C:\\Users\\SerPetr\\Anaconda3\\lib\\site-packages\\sklearn\\svm\\_base.py:947: ConvergenceWarning: Liblinear failed to converge, increase the number of iterations.\n",
      "  \"the number of iterations.\", ConvergenceWarning)\n"
     ]
    },
    {
     "data": {
      "text/plain": [
       "LogisticRegression(C=1, class_weight='balanced', dual=False, fit_intercept=True,\n",
       "                   intercept_scaling=1, l1_ratio=None, max_iter=100,\n",
       "                   multi_class='auto', n_jobs=None, penalty='l1',\n",
       "                   random_state=10, solver='liblinear', tol=0.0001, verbose=0,\n",
       "                   warm_start=False)"
      ]
     },
     "execution_count": 78,
     "metadata": {},
     "output_type": "execute_result"
    }
   ],
   "source": [
    "best_lr_clsf = lr_grid.best_estimator_\n",
    "best_lr_clsf.fit(X_cv, y_cv)"
   ]
  },
  {
   "cell_type": "markdown",
   "metadata": {},
   "source": [
    "### Находим метрики: `Полноту`, `Точность` и `F меру`"
   ]
  },
  {
   "cell_type": "code",
   "execution_count": 79,
   "metadata": {
    "_uuid": "c812f99be223352de24f440abe9c51fd028db877"
   },
   "outputs": [
    {
     "name": "stdout",
     "output_type": "stream",
     "text": [
      "0.8536585365853658 0.16908212560386474 0.28225806451612906\n"
     ]
    }
   ],
   "source": [
    "print(recall_score(y_ho, best_lr_clsf.predict(X_ho)),\n",
    "      precision_score(y_ho, best_lr_clsf.predict(X_ho)),\n",
    "      f1_score(y_ho, best_lr_clsf.predict(X_ho)))"
   ]
  },
  {
   "cell_type": "markdown",
   "metadata": {
    "_uuid": "0bd75f37839a6cd05b71b1496a0722359718276d"
   },
   "source": [
    "## XGBoost"
   ]
  },
  {
   "cell_type": "code",
   "execution_count": 42,
   "metadata": {
    "_uuid": "0a938c76087289f5446fda8c684377d7152668ad"
   },
   "outputs": [],
   "source": [
    "xgb_learning_rate = [x for x in np.linspace(start = 0.001, stop = 0.1, num = 10)]\n",
    "xgb_n_estimators = [int(x) for x in np.linspace(start = 100, stop = 1000, num = 10)]\n",
    "xgb_booster = ['gbtree', 'dart']\n",
    "xgb_colsample_bytree = [0.4, 0.6, 0.8, 1.0]\n",
    "xgb_colsample_bylevel = [0.5, 0.75, 1.0]\n",
    "xgb_scale_pos_weight = [(len(y_cv) - sum(y_cv))/sum(y_cv)]\n",
    "xgb_min_child_weight = [1]\n",
    "xgb_subsample = [0.5, 1.0]\n",
    "\n",
    "\n",
    "random_grid = {'learning_rate': xgb_learning_rate,\n",
    "               'n_estimators': xgb_n_estimators,\n",
    "               'booster': xgb_booster,\n",
    "               'colsample_bytree': xgb_colsample_bytree,\n",
    "               'colsample_bylevel': xgb_colsample_bylevel,\n",
    "               'scale_pos_weight': xgb_scale_pos_weight,\n",
    "               'min_child_weight': xgb_min_child_weight,\n",
    "               'subsample': xgb_subsample}"
   ]
  },
  {
   "cell_type": "code",
   "execution_count": 43,
   "metadata": {
    "_uuid": "00cbaec0afbbea3b21822f43fac17f9145f7edeb"
   },
   "outputs": [
    {
     "name": "stderr",
     "output_type": "stream",
     "text": [
      "[Parallel(n_jobs=-1)]: Using backend LokyBackend with 8 concurrent workers.\n"
     ]
    },
    {
     "name": "stdout",
     "output_type": "stream",
     "text": [
      "Fitting 3 folds for each of 10 candidates, totalling 30 fits\n"
     ]
    },
    {
     "name": "stderr",
     "output_type": "stream",
     "text": [
      "[Parallel(n_jobs=-1)]: Done  30 out of  30 | elapsed:    8.6s finished\n"
     ]
    },
    {
     "data": {
      "text/plain": [
       "RandomizedSearchCV(cv=3, error_score=nan,\n",
       "                   estimator=XGBClassifier(base_score=0.5, booster='gbtree',\n",
       "                                           colsample_bylevel=1,\n",
       "                                           colsample_bynode=1,\n",
       "                                           colsample_bytree=1, gamma=0,\n",
       "                                           learning_rate=0.1, max_delta_step=0,\n",
       "                                           max_depth=3, min_child_weight=1,\n",
       "                                           missing=None, n_estimators=100,\n",
       "                                           n_jobs=1, nthread=None,\n",
       "                                           objective='binary:logistic',\n",
       "                                           random_state=10, reg_alpha=0,\n",
       "                                           reg_lambda=1, s...\n",
       "                                                          0.045000000000000005,\n",
       "                                                          0.05600000000000001,\n",
       "                                                          0.067,\n",
       "                                                          0.07800000000000001,\n",
       "                                                          0.08900000000000001,\n",
       "                                                          0.1],\n",
       "                                        'min_child_weight': [1],\n",
       "                                        'n_estimators': [100, 200, 300, 400,\n",
       "                                                         500, 600, 700, 800,\n",
       "                                                         900, 1000],\n",
       "                                        'scale_pos_weight': [26.05263157894737],\n",
       "                                        'subsample': [0.5, 1.0]},\n",
       "                   pre_dispatch='2*n_jobs', random_state=10, refit='f1',\n",
       "                   return_train_score=False,\n",
       "                   scoring=['f1', 'precision', 'recall'], verbose=2)"
      ]
     },
     "execution_count": 43,
     "metadata": {},
     "output_type": "execute_result"
    }
   ],
   "source": [
    "xgb_clsf = xgb.XGBClassifier(random_state=10)\n",
    "xgb_random = RandomizedSearchCV(estimator = xgb_clsf, param_distributions = random_grid, n_iter = 10, cv = 3, verbose=2, random_state=10, n_jobs = -1, refit='f1', scoring=['f1', 'precision', 'recall'])\n",
    "xgb_random.fit(X_cv, y_cv)"
   ]
  },
  {
   "cell_type": "markdown",
   "metadata": {},
   "source": [
    "### Находим точность классификации"
   ]
  },
  {
   "cell_type": "code",
   "execution_count": 44,
   "metadata": {
    "_uuid": "d6ba24846c61cf7bc52e7fde13e56be6fc66cdfa"
   },
   "outputs": [
    {
     "data": {
      "text/plain": [
       "0.4041610233008916"
      ]
     },
     "execution_count": 44,
     "metadata": {},
     "output_type": "execute_result"
    }
   ],
   "source": [
    "xgb_random.best_score_"
   ]
  },
  {
   "cell_type": "code",
   "execution_count": 45,
   "metadata": {
    "_uuid": "86b282374f28c2b5daf5ce1f880e48b45834be5c"
   },
   "outputs": [
    {
     "data": {
      "text/plain": [
       "XGBClassifier(base_score=0.5, booster='gbtree', colsample_bylevel=1.0,\n",
       "              colsample_bynode=1, colsample_bytree=0.8, gamma=0,\n",
       "              learning_rate=0.023000000000000003, max_delta_step=0, max_depth=3,\n",
       "              min_child_weight=1, missing=None, n_estimators=200, n_jobs=1,\n",
       "              nthread=None, objective='binary:logistic', random_state=10,\n",
       "              reg_alpha=0, reg_lambda=1, scale_pos_weight=26.05263157894737,\n",
       "              seed=None, silent=None, subsample=0.5, verbosity=1)"
      ]
     },
     "execution_count": 45,
     "metadata": {},
     "output_type": "execute_result"
    }
   ],
   "source": [
    "best_xgb_clsf = xgb_random.best_estimator_\n",
    "best_xgb_clsf.fit(X_cv, y_cv)"
   ]
  },
  {
   "cell_type": "markdown",
   "metadata": {},
   "source": [
    "### Находим метрики: `Полноту`, `Точность` и `F меру`"
   ]
  },
  {
   "cell_type": "code",
   "execution_count": 46,
   "metadata": {
    "_uuid": "e4807ef307cc52f19e39b209fa73911452bb52d4"
   },
   "outputs": [
    {
     "name": "stdout",
     "output_type": "stream",
     "text": [
      "0.7317073170731707 0.22900763358778625 0.3488372093023256\n"
     ]
    }
   ],
   "source": [
    "print(recall_score(y_ho, best_xgb_clsf.predict(X_ho)),\n",
    "      precision_score(y_ho, best_xgb_clsf.predict(X_ho)),\n",
    "      f1_score(y_ho, best_xgb_clsf.predict(X_ho)))"
   ]
  },
  {
   "cell_type": "markdown",
   "metadata": {},
   "source": [
    "## Вторая серия моделей"
   ]
  },
  {
   "cell_type": "markdown",
   "metadata": {
    "_uuid": "995ade2d3be7082c75c29cee28d80fff064bd67b"
   },
   "source": [
    "Для второй серии моделей кодируем категориальный признак, прошкалируем данные"
   ]
  },
  {
   "cell_type": "code",
   "execution_count": 48,
   "metadata": {
    "_uuid": "fe28d60d6df950115d8d746384e5d7ff4e068a79"
   },
   "outputs": [],
   "source": [
    "from sklearn.preprocessing import StandardScaler\n",
    "from sklearn.preprocessing import OneHotEncoder\n",
    "from imblearn.over_sampling import SMOTE"
   ]
  },
  {
   "cell_type": "code",
   "execution_count": 49,
   "metadata": {
    "_uuid": "88c382835d72c94703929d14a8cb185090e83088"
   },
   "outputs": [],
   "source": [
    "X = data_full.iloc[:, 3:-1]\n",
    "y = data_full['Distressed'] "
   ]
  },
  {
   "cell_type": "code",
   "execution_count": 50,
   "metadata": {
    "_uuid": "44bc8ed4908919a351d9dab2110c81bb667fdd37"
   },
   "outputs": [
    {
     "name": "stdout",
     "output_type": "stream",
     "text": [
      "CV: [3386 1214 2525 ... 2416  634 2924] HO: [2474 1786 1337 ... 3543 2556 1521]\n"
     ]
    }
   ],
   "source": [
    "X_encoded = pd.get_dummies(X, columns=['x80'], prefix='x80_')\n",
    "scaler = StandardScaler()\n",
    "X_scaled = scaler.fit_transform(X_encoded)\n",
    "X_scaled = pd.DataFrame(X_scaled, index=X_encoded.index, columns=X_encoded.columns)\n",
    "for train_index, test_index in SSS.split(X_scaled, y):\n",
    "    print(\"CV:\", train_index, \"HO:\", test_index)\n",
    "    X_train, X_test = X_scaled.iloc[train_index], X_scaled.iloc[test_index]\n",
    "    y_train, y_test = y[train_index], y[test_index]\n",
    "sm = SMOTE(random_state=10)\n",
    "X_train, y_train = sm.fit_sample(X_train, y_train)"
   ]
  },
  {
   "cell_type": "code",
   "execution_count": 51,
   "metadata": {
    "_uuid": "45b30be9d58d049cc44d26958fade1a76ac7fc8c",
    "scrolled": true
   },
   "outputs": [
    {
     "data": {
      "text/plain": [
       "2474    0\n",
       "1786    1\n",
       "1337    0\n",
       "2935    0\n",
       "1446    0\n",
       "       ..\n",
       "367     0\n",
       "2456    0\n",
       "3543    0\n",
       "2556    0\n",
       "1521    0\n",
       "Name: Distressed, Length: 1102, dtype: int64"
      ]
     },
     "execution_count": 51,
     "metadata": {},
     "output_type": "execute_result"
    }
   ],
   "source": [
    "y_test"
   ]
  },
  {
   "cell_type": "markdown",
   "metadata": {
    "_uuid": "382881a28211e35704056ae1990a454c1e566612"
   },
   "source": [
    "## Случайный лес после обработки признаков"
   ]
  },
  {
   "cell_type": "code",
   "execution_count": 52,
   "metadata": {
    "_uuid": "97aa79a04eeb83fe85cbe2fee029e1cb2f062034"
   },
   "outputs": [],
   "source": [
    "rf_n_estimators = [int(x) for x in np.linspace(start = 100, stop = 1000, num = 10)]\n",
    "rf_max_features = ['auto', 'sqrt']\n",
    "rf_max_depth = [int(x) for x in np.linspace(50, 100, num = 10)]\n",
    "rf_max_depth.append(None)\n",
    "rf_min_samples_split = [2, 5, 10]\n",
    "rf_min_samples_leaf = [1, 2, 3, 4]\n",
    "rf_bootstrap = [True, False]\n",
    "rf_class_weight = ['balanced', None]\n",
    "\n",
    "rf_random_grid = {'n_estimators': rf_n_estimators,\n",
    "               'max_features': rf_max_features,\n",
    "               'max_depth': rf_max_depth,\n",
    "               'min_samples_split': rf_min_samples_split,\n",
    "               'min_samples_leaf': rf_min_samples_leaf,\n",
    "               'bootstrap': rf_bootstrap,\n",
    "               'class_weight': rf_class_weight}"
   ]
  },
  {
   "cell_type": "code",
   "execution_count": 53,
   "metadata": {
    "_uuid": "47a73a5ec7d2b54908ac7411512800dae4fa0b1d"
   },
   "outputs": [
    {
     "name": "stdout",
     "output_type": "stream",
     "text": [
      "Fitting 3 folds for each of 10 candidates, totalling 30 fits\n"
     ]
    },
    {
     "name": "stderr",
     "output_type": "stream",
     "text": [
      "[Parallel(n_jobs=-1)]: Using backend LokyBackend with 8 concurrent workers.\n",
      "[Parallel(n_jobs=-1)]: Done  30 out of  30 | elapsed:   40.8s finished\n"
     ]
    },
    {
     "data": {
      "text/plain": [
       "RandomizedSearchCV(cv=3, error_score=nan,\n",
       "                   estimator=RandomForestClassifier(bootstrap=True,\n",
       "                                                    ccp_alpha=0.0,\n",
       "                                                    class_weight=None,\n",
       "                                                    criterion='gini',\n",
       "                                                    max_depth=None,\n",
       "                                                    max_features='auto',\n",
       "                                                    max_leaf_nodes=None,\n",
       "                                                    max_samples=None,\n",
       "                                                    min_impurity_decrease=0.0,\n",
       "                                                    min_impurity_split=None,\n",
       "                                                    min_samples_leaf=1,\n",
       "                                                    min_samples_split=2,\n",
       "                                                    min_weight_fraction_leaf=0.0,\n",
       "                                                    n_estimators=100,\n",
       "                                                    n_jobs...\n",
       "                                        'class_weight': ['balanced', None],\n",
       "                                        'max_depth': [50, 55, 61, 66, 72, 77,\n",
       "                                                      83, 88, 94, 100, None],\n",
       "                                        'max_features': ['auto', 'sqrt'],\n",
       "                                        'min_samples_leaf': [1, 2, 3, 4],\n",
       "                                        'min_samples_split': [2, 5, 10],\n",
       "                                        'n_estimators': [100, 200, 300, 400,\n",
       "                                                         500, 600, 700, 800,\n",
       "                                                         900, 1000]},\n",
       "                   pre_dispatch='2*n_jobs', random_state=10, refit='f1',\n",
       "                   return_train_score=False,\n",
       "                   scoring=['f1', 'precision', 'recall'], verbose=2)"
      ]
     },
     "execution_count": 53,
     "metadata": {},
     "output_type": "execute_result"
    }
   ],
   "source": [
    "rf_clsf = RandomForestClassifier(random_state=10)\n",
    "rf_random_2 = RandomizedSearchCV(estimator = rf_clsf, param_distributions = rf_random_grid, n_iter = 10, cv = 3, verbose=2, random_state=10, n_jobs = -1, refit='f1', scoring=['f1', 'precision', 'recall'])\n",
    "rf_random_2.fit(X_train, y_train)"
   ]
  },
  {
   "cell_type": "code",
   "execution_count": 54,
   "metadata": {
    "_uuid": "d58f050ccc0c38b8869a2dd5d687fc7c052550cd"
   },
   "outputs": [
    {
     "data": {
      "text/plain": [
       "RandomForestClassifier(bootstrap=False, ccp_alpha=0.0, class_weight=None,\n",
       "                       criterion='gini', max_depth=100, max_features='sqrt',\n",
       "                       max_leaf_nodes=None, max_samples=None,\n",
       "                       min_impurity_decrease=0.0, min_impurity_split=None,\n",
       "                       min_samples_leaf=1, min_samples_split=2,\n",
       "                       min_weight_fraction_leaf=0.0, n_estimators=200,\n",
       "                       n_jobs=None, oob_score=False, random_state=10, verbose=0,\n",
       "                       warm_start=False)"
      ]
     },
     "execution_count": 54,
     "metadata": {},
     "output_type": "execute_result"
    }
   ],
   "source": [
    "best_rf_clsf = rf_random_2.best_estimator_\n",
    "best_rf_clsf.fit(X_train, y_train)"
   ]
  },
  {
   "cell_type": "markdown",
   "metadata": {},
   "source": [
    "### Находим точность классификации и метрики: `Полноту`, `Точность` и `F меру`\n",
    "#### Было:\n",
    "0.37831701433234\n",
    "\n",
    "\n",
    "0.6097560975609756 0.3424657534246575 0.43859649122807015"
   ]
  },
  {
   "cell_type": "markdown",
   "metadata": {},
   "source": [
    "#### Стало:"
   ]
  },
  {
   "cell_type": "code",
   "execution_count": 66,
   "metadata": {
    "_uuid": "f095887d26086c0b70d5c5a0ebdabaa18d864c48"
   },
   "outputs": [
    {
     "name": "stdout",
     "output_type": "stream",
     "text": [
      "0.9818757902921966\n",
      "0.36585365853658536 0.32608695652173914 0.3448275862068966\n"
     ]
    }
   ],
   "source": [
    "print(rf_random_2.best_score_)\n",
    "print(recall_score(y_test, best_rf_clsf.predict(X_test)),\n",
    "      precision_score(y_test, best_rf_clsf.predict(X_test)),\n",
    "      f1_score(y_test, best_rf_clsf.predict(X_test)))"
   ]
  },
  {
   "cell_type": "markdown",
   "metadata": {
    "_uuid": "9d5ec46d4e495a25090786aef03e99fb42056485"
   },
   "source": [
    "## Логистическая регрессия после обработки признаков"
   ]
  },
  {
   "cell_type": "code",
   "execution_count": 56,
   "metadata": {
    "_uuid": "26f521fd47749e1b911947e3998f27633c03891d"
   },
   "outputs": [],
   "source": [
    "lr_penalty = ['l1', 'l2']\n",
    "lr_class_weight = ['balanced', None]\n",
    "lr_C = [0.1, 1, 10, 100]\n",
    "lr_solver = ['liblinear', 'saga']\n",
    "\n",
    "lr_grid = {'penalty': lr_penalty,\n",
    "           'class_weight': lr_class_weight,\n",
    "           'C': lr_C,\n",
    "           'solver': lr_solver}"
   ]
  },
  {
   "cell_type": "code",
   "execution_count": 57,
   "metadata": {
    "_uuid": "b4365b7628f18bf9741b9fc1a0e5bde888f3a304"
   },
   "outputs": [
    {
     "name": "stdout",
     "output_type": "stream",
     "text": [
      "Fitting 3 folds for each of 32 candidates, totalling 96 fits\n"
     ]
    },
    {
     "name": "stderr",
     "output_type": "stream",
     "text": [
      "[Parallel(n_jobs=-1)]: Using backend LokyBackend with 8 concurrent workers.\n",
      "[Parallel(n_jobs=-1)]: Done  25 tasks      | elapsed:   12.6s\n",
      "[Parallel(n_jobs=-1)]: Done  96 out of  96 | elapsed:  1.1min finished\n"
     ]
    },
    {
     "data": {
      "text/plain": [
       "GridSearchCV(cv=3, error_score=nan,\n",
       "             estimator=LogisticRegression(C=1.0, class_weight=None, dual=False,\n",
       "                                          fit_intercept=True,\n",
       "                                          intercept_scaling=1, l1_ratio=None,\n",
       "                                          max_iter=1000, multi_class='auto',\n",
       "                                          n_jobs=None, penalty='l2',\n",
       "                                          random_state=10, solver='lbfgs',\n",
       "                                          tol=0.0001, verbose=0,\n",
       "                                          warm_start=False),\n",
       "             iid='deprecated', n_jobs=-1,\n",
       "             param_grid={'C': [0.1, 1, 10, 100],\n",
       "                         'class_weight': ['balanced', None],\n",
       "                         'penalty': ['l1', 'l2'],\n",
       "                         'solver': ['liblinear', 'saga']},\n",
       "             pre_dispatch='2*n_jobs', refit='f1', return_train_score=False,\n",
       "             scoring=['f1', 'precision', 'recall'], verbose=2)"
      ]
     },
     "execution_count": 57,
     "metadata": {},
     "output_type": "execute_result"
    }
   ],
   "source": [
    "lr_clsf = LogisticRegression(random_state=10, max_iter=1000)\n",
    "lr_grid_2 = GridSearchCV(estimator = lr_clsf, param_grid = lr_grid, cv = 3, verbose=2, n_jobs = -1, refit='f1', scoring=['f1', 'precision', 'recall'])\n",
    "lr_grid_2.fit(X_train, y_train)"
   ]
  },
  {
   "cell_type": "code",
   "execution_count": 58,
   "metadata": {
    "_uuid": "45c3c4e9417ad25fe75c3fca2e14e0373d531cb0"
   },
   "outputs": [
    {
     "data": {
      "text/plain": [
       "LogisticRegression(C=100, class_weight='balanced', dual=False,\n",
       "                   fit_intercept=True, intercept_scaling=1, l1_ratio=None,\n",
       "                   max_iter=1000, multi_class='auto', n_jobs=None, penalty='l1',\n",
       "                   random_state=10, solver='liblinear', tol=0.0001, verbose=0,\n",
       "                   warm_start=False)"
      ]
     },
     "execution_count": 58,
     "metadata": {},
     "output_type": "execute_result"
    }
   ],
   "source": [
    "best_lr_clsf = lr_grid_2.best_estimator_\n",
    "best_lr_clsf.fit(X_train, y_train)"
   ]
  },
  {
   "cell_type": "markdown",
   "metadata": {},
   "source": [
    "### Находим точность классификации и метрики: `Полноту`, `Точность` и `F меру`"
   ]
  },
  {
   "cell_type": "markdown",
   "metadata": {},
   "source": [
    "#### Было:\n",
    "\n",
    "0.3075985539679807\n",
    "\n",
    "\n",
    "0.8536585365853658 0.16908212560386474 0.28225806451612906"
   ]
  },
  {
   "cell_type": "markdown",
   "metadata": {},
   "source": [
    "#### Стало:"
   ]
  },
  {
   "cell_type": "code",
   "execution_count": 72,
   "metadata": {
    "_uuid": "4a72ad3162e09037ba05e1b5dd9b21f9eaeefc96"
   },
   "outputs": [
    {
     "name": "stdout",
     "output_type": "stream",
     "text": [
      "0.9393676602654103\n",
      "0.7804878048780488 0.18497109826589594 0.2990654205607477\n"
     ]
    }
   ],
   "source": [
    "print(lr_grid_2.best_score_)\n",
    "print(recall_score(y_test, best_lr_clsf.predict(X_test)),\n",
    "      precision_score(y_test, best_lr_clsf.predict(X_test)),\n",
    "      f1_score(y_test, best_lr_clsf.predict(X_test)))"
   ]
  },
  {
   "cell_type": "markdown",
   "metadata": {
    "_uuid": "2e3d2ab63c9fcb1ddf36feedb278b5ec871f5b7e"
   },
   "source": [
    "## XGBoost после обработки признаков"
   ]
  },
  {
   "cell_type": "code",
   "execution_count": 60,
   "metadata": {
    "_uuid": "21b52fd30665ecdd4bb28e504ad22aa95b4bc1f8"
   },
   "outputs": [],
   "source": [
    "xgb_learning_rate = [x for x in np.linspace(start = 0.001, stop = 0.1, num = 10)]\n",
    "xgb_n_estimators = [int(x) for x in np.linspace(start = 100, stop = 1000, num = 10)]\n",
    "xgb_booster = ['gbtree', 'dart']\n",
    "xgb_colsample_bytree = [0.4, 0.6, 0.8, 1.0]\n",
    "xgb_colsample_bylevel = [0.5, 0.75, 1.0]\n",
    "xgb_scale_pos_weight = [(len(y_cv) - sum(y_cv))/sum(y_cv)]\n",
    "xgb_min_child_weight = [1]\n",
    "xgb_subsample = [0.5, 1.0]\n",
    "\n",
    "\n",
    "random_grid = {'learning_rate': xgb_learning_rate,\n",
    "               'n_estimators': xgb_n_estimators,\n",
    "               'booster': xgb_booster,\n",
    "               'colsample_bytree': xgb_colsample_bytree,\n",
    "               'colsample_bylevel': xgb_colsample_bylevel,\n",
    "               'scale_pos_weight': xgb_scale_pos_weight,\n",
    "               'min_child_weight': xgb_min_child_weight,\n",
    "               'subsample': xgb_subsample}"
   ]
  },
  {
   "cell_type": "code",
   "execution_count": 61,
   "metadata": {
    "_uuid": "aeb38fdee38b816344010a774732a36d88509432"
   },
   "outputs": [
    {
     "name": "stdout",
     "output_type": "stream",
     "text": [
      "Fitting 3 folds for each of 10 candidates, totalling 30 fits\n"
     ]
    },
    {
     "name": "stderr",
     "output_type": "stream",
     "text": [
      "[Parallel(n_jobs=-1)]: Using backend LokyBackend with 8 concurrent workers.\n",
      "[Parallel(n_jobs=-1)]: Done  30 out of  30 | elapsed:   19.5s finished\n"
     ]
    },
    {
     "data": {
      "text/plain": [
       "RandomizedSearchCV(cv=3, error_score=nan,\n",
       "                   estimator=XGBClassifier(base_score=0.5, booster='gbtree',\n",
       "                                           colsample_bylevel=1,\n",
       "                                           colsample_bynode=1,\n",
       "                                           colsample_bytree=1, gamma=0,\n",
       "                                           learning_rate=0.1, max_delta_step=0,\n",
       "                                           max_depth=3, min_child_weight=1,\n",
       "                                           missing=None, n_estimators=100,\n",
       "                                           n_jobs=1, nthread=None,\n",
       "                                           objective='binary:logistic',\n",
       "                                           random_state=10, reg_alpha=0,\n",
       "                                           reg_lambda=1, s...\n",
       "                                                          0.045000000000000005,\n",
       "                                                          0.05600000000000001,\n",
       "                                                          0.067,\n",
       "                                                          0.07800000000000001,\n",
       "                                                          0.08900000000000001,\n",
       "                                                          0.1],\n",
       "                                        'min_child_weight': [1],\n",
       "                                        'n_estimators': [100, 200, 300, 400,\n",
       "                                                         500, 600, 700, 800,\n",
       "                                                         900, 1000],\n",
       "                                        'scale_pos_weight': [26.05263157894737],\n",
       "                                        'subsample': [0.5, 1.0]},\n",
       "                   pre_dispatch='2*n_jobs', random_state=10, refit='f1',\n",
       "                   return_train_score=False,\n",
       "                   scoring=['f1', 'precision', 'recall'], verbose=2)"
      ]
     },
     "execution_count": 61,
     "metadata": {},
     "output_type": "execute_result"
    }
   ],
   "source": [
    "xgb_clsf = xgb.XGBClassifier(random_state=10)\n",
    "xgb_random_2 = RandomizedSearchCV(estimator = xgb_clsf, param_distributions = random_grid, n_iter = 10, cv = 3, verbose=2, random_state=10, n_jobs = -1, refit='f1', scoring=['f1', 'precision', 'recall'])\n",
    "xgb_random_2.fit(X_train, y_train)"
   ]
  },
  {
   "cell_type": "code",
   "execution_count": 62,
   "metadata": {
    "_uuid": "a595a14f8bf676f322f1515a142afe1022134e2e"
   },
   "outputs": [
    {
     "data": {
      "text/plain": [
       "XGBClassifier(base_score=0.5, booster='gbtree', colsample_bylevel=1.0,\n",
       "              colsample_bynode=1, colsample_bytree=0.6, gamma=0,\n",
       "              learning_rate=0.07800000000000001, max_delta_step=0, max_depth=3,\n",
       "              min_child_weight=1, missing=None, n_estimators=500, n_jobs=1,\n",
       "              nthread=None, objective='binary:logistic', random_state=10,\n",
       "              reg_alpha=0, reg_lambda=1, scale_pos_weight=26.05263157894737,\n",
       "              seed=None, silent=None, subsample=1.0, verbosity=1)"
      ]
     },
     "execution_count": 62,
     "metadata": {},
     "output_type": "execute_result"
    }
   ],
   "source": [
    "best_xgb_clsf = xgb_random_2.best_estimator_\n",
    "best_xgb_clsf.fit(X_train, y_train)"
   ]
  },
  {
   "cell_type": "markdown",
   "metadata": {},
   "source": [
    "### Находим точность классификации и метрики: `Полноту`, `Точность` и `F меру`\n",
    "#### Было:\n",
    "\n",
    "0.4041610233008916\n",
    "\n",
    "\n",
    "0.7317073170731707 0.22900763358778625 0.3488372093023256"
   ]
  },
  {
   "cell_type": "markdown",
   "metadata": {},
   "source": [
    "#### Стало:"
   ]
  },
  {
   "cell_type": "code",
   "execution_count": 85,
   "metadata": {
    "_uuid": "87b6434a5bcba37a11764ab02513cbc2a400459c"
   },
   "outputs": [
    {
     "name": "stdout",
     "output_type": "stream",
     "text": [
      "0.9707335544937843\n",
      "0.5365853658536586 0.23157894736842105 0.32352941176470584\n"
     ]
    }
   ],
   "source": [
    "print(xgb_random_2.best_score_)\n",
    "print(recall_score(y_test, best_xgb_clsf.predict(X_test)),\n",
    "      precision_score(y_test, best_xgb_clsf.predict(X_test)),\n",
    "      f1_score(y_test, best_xgb_clsf.predict(X_test)))"
   ]
  },
  {
   "cell_type": "markdown",
   "metadata": {
    "_uuid": "262dc2f33b4f46b4a16ff3ad8efe27f7efa9e911"
   },
   "source": [
    "# Вывод"
   ]
  },
  {
   "cell_type": "markdown",
   "metadata": {},
   "source": [
    "После нормализации признаков в данных, методы начали лучше классифицировать (возможно переобучение) банкротство компаний, но при этом в трех методах упала полнота (способность алгоритма обнаруживать банкротство), точность (способность отличать банкротство от не банкротства), немного увеличилась (хотя и была низкой) точность Регрессии и  XGBoost'a. Что и отражается на F меру, который является средним гармоническим precision и recall."
   ]
  }
 ],
 "metadata": {
  "kernelspec": {
   "display_name": "Python 3",
   "language": "python",
   "name": "python3"
  },
  "language_info": {
   "codemirror_mode": {
    "name": "ipython",
    "version": 3
   },
   "file_extension": ".py",
   "mimetype": "text/x-python",
   "name": "python",
   "nbconvert_exporter": "python",
   "pygments_lexer": "ipython3",
   "version": "3.7.3"
  }
 },
 "nbformat": 4,
 "nbformat_minor": 1
}
